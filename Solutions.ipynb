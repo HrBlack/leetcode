{
 "cells": [
  {
   "cell_type": "markdown",
   "metadata": {},
   "source": [
    "# 1. Two Sum"
   ]
  },
  {
   "cell_type": "code",
   "execution_count": null,
   "metadata": {},
   "outputs": [],
   "source": [
    "# 该题解法很多，但是这个是O（n）的解法；如果用for loop是n的平方复杂度。\n",
    "class Solution:\n",
    "    def twoSum(self, nums, target):\n",
    "        \"\"\"\n",
    "        :type nums: List[int]\n",
    "        :type target: int\n",
    "        :rtype: List[int]\n",
    "        \"\"\"\n",
    "        buff_dict = {}\n",
    "        for i,value in enumerate(nums):\n",
    "            if value in buff_dict.keys():\n",
    "                return [buff_dict[value], i]\n",
    "            else:\n",
    "                buff_dict[target-value] = i"
   ]
  },
  {
   "cell_type": "markdown",
   "metadata": {},
   "source": [
    "# 5. Longest Palindromic Substring"
   ]
  },
  {
   "cell_type": "code",
   "execution_count": null,
   "metadata": {},
   "outputs": [],
   "source": [
    "class Solution:\n",
    "    def longestPalindrome(self, s):\n",
    "        \"\"\"\n",
    "        :type s: str\n",
    "        :rtype: str\n",
    "        \"\"\"\n",
    "        res = \"\"\n",
    "        for i in range(len(s)):\n",
    "            equ = self.comp(s, i, i)\n",
    "            if len(equ)>len(res):\n",
    "                res = equ\n",
    "            equ = self.comp(s, i, i+1)\n",
    "            if len(equ)>len(res):\n",
    "                res = equ\n",
    "        return res\n",
    "            \n",
    "            \n",
    "    def comp(self,s, i, j):\n",
    "        while i >= 0 and j<=len(s)-1 and s[i]==s[j]:\n",
    "            i -=1; j+=1\n",
    "        return s[i+1:j]\n",
    "    \n",
    "\n",
    "# palindromic这个单词的意思是 无论从左还是从右边读， substring都是相同的，也就是说它是对称的。\n",
    "\n",
    "# 关于self的理解：只要是在class里定义的函数，就一般都需要self（目前来看的经验），而如果最上面没有class 的话，函数其实可以没有self参量。\n",
    "\n",
    "# 之所以要调用两次comp，第一次是因为可能是aba的情况；第二次是可能abba的情况。"
   ]
  },
  {
   "cell_type": "markdown",
   "metadata": {},
   "source": [
    "# 6. ZigZag Conversion"
   ]
  },
  {
   "cell_type": "code",
   "execution_count": 7,
   "metadata": {},
   "outputs": [],
   "source": [
    "class Solution:\n",
    "    def convert(self, s, numRows):\n",
    "        \"\"\"\n",
    "        :type s: str\n",
    "        :type numRows: int\n",
    "        :rtype: str\n",
    "        \"\"\"\n",
    "        if numRows == 1 or len(s)<=numRows:\n",
    "            return s\n",
    "        L = ['']*numRows #这个地方需要注意一下，【】里面需要加上‘’，这样它才不是空集，里面是有一个元素‘’的，这样接下来的L[i]才是有意义的。\n",
    "        i, step = 0, 1\n",
    "        for x in s:\n",
    "            if i == 0:\n",
    "                step = 1\n",
    "            elif i == numRows-1:\n",
    "                step = -1\n",
    "            L[i] += x\n",
    "            i += step\n",
    "        return ''.join(L)\n",
    "    \n",
    "    \n",
    "class Solution:\n",
    "    def convert(self, s: 'str', numRows: 'int') -> 'str':\n",
    "        res, j= [], 0\n",
    "        length = len(s)\n",
    "        if length <= numRows or numRows == 1:\n",
    "            return s\n",
    "        for i in range(numRows, 0, -1):\n",
    "            \n",
    "            j = numRows-i    \n",
    "            if i == 1 or i == numRows:\n",
    "                while j < length:\n",
    "                    res.append(s[j])\n",
    "                    j += 2*(numRows-1)\n",
    "            else:\n",
    "                addition = 2*(i-1)\n",
    "                while j < length:\n",
    "                    res.append(s[j])\n",
    "                    j += addition\n",
    "                    addition = 2*(numRows-1) - addition        \n",
    "        return ''.join(res)"
   ]
  },
  {
   "cell_type": "markdown",
   "metadata": {},
   "source": [
    "z形排列，其实也就是龙摆尾。第一个解巧妙的地方在于，它利用i这个指针参量去控制着x插入指定的L行，并用step来控制 i 的上下移动。\n",
    "最后的join函数也很有意思，它是可以将L函数里的内容以‘’连接起来，实现了无缝连接。"
   ]
  },
  {
   "cell_type": "markdown",
   "metadata": {},
   "source": [
    "# 7. Reverse Integer"
   ]
  },
  {
   "cell_type": "code",
   "execution_count": 15,
   "metadata": {},
   "outputs": [
    {
     "name": "stdout",
     "output_type": "stream",
     "text": [
      "452\n"
     ]
    }
   ],
   "source": [
    "import operator\n",
    "class Solution:\n",
    "    def reverse(self, x):\n",
    "        \"\"\"\n",
    "        :type x: int\n",
    "        :rtype: int\n",
    "        \"\"\"\n",
    "        s = int(operator.gt(x, 0))\n",
    "        a = int(str(abs(x))[::-1])\n",
    "        if s == 0:\n",
    "            return(-a)*(a<2**31)\n",
    "        return a*(a<2**31)"
   ]
  },
  {
   "cell_type": "markdown",
   "metadata": {},
   "source": [
    "cmp函数已经不能在python3中使用了，所以此处要import operator，gt是greater than，ge是greater or equal，同样还有lt，le。\n",
    "要注意：x是一个数值，并不是list，所以要先转为str，然后利用[::-1]来表示倒序。（[i:j:-1])\n",
    "最后return语句中的2** 31 是指不能超过32bit的最大数值范围（第一位是sign，剩下31位）"
   ]
  },
  {
   "cell_type": "markdown",
   "metadata": {},
   "source": [
    "# 8. String to Integer (atoi)"
   ]
  },
  {
   "cell_type": "code",
   "execution_count": null,
   "metadata": {},
   "outputs": [],
   "source": [
    "# 第一种方法很久以前想的了， 过于麻烦\n",
    "class Solution:\n",
    "    def myAtoi(self, str):\n",
    "        \"\"\"\n",
    "        :type str: str\n",
    "        :rtype: int\n",
    "        \"\"\"\n",
    "        a = []\n",
    "        flag = 0\n",
    "        str = str.strip(' ')\n",
    "        for s in str:\n",
    "            if (s =='-' or s == '+') and (flag == 0):\n",
    "                a.append(s)\n",
    "                flag += 1\n",
    "            elif s <= '9' and s >= '0':\n",
    "                a.append(s)\n",
    "                flag +=1\n",
    "            else:   \n",
    "                break\n",
    "        str = ''.join(a)\n",
    "        if str == \"\":\n",
    "            return 0\n",
    "        if str[0] != '-' and str[0] != '+':\n",
    "            return int(str) if int(str)<2147483648 else 2147483647\n",
    "        elif str[0] == '+' and len(str)>1:\n",
    "            return +int(str[1:]) if int(str[1:])<2147483648 else 2147483647\n",
    "        elif str[0] == '-' and len(str)>1:\n",
    "            return -int(str[1:]) if int(str[1:])<2147483648 else -2147483648\n",
    "        else: return 0\n",
    "        \n",
    "# 简洁了许多\n",
    "class Solution:\n",
    "    def myAtoi(self, str: 'str') -> 'int':\n",
    "        res = j = 0\n",
    "        str = str.strip()\n",
    "        if not str or 'z' >= str[0]>= 'a':\n",
    "            return res\n",
    "        if str[0] in ['-', '+']:\n",
    "            sign = -1 + 2 * (str[0]=='+')  # sign的表达式很巧妙！也可以直接sign = -1 if str[0]=='-' else 1\n",
    "            j = 1\n",
    "        for i in str[j:]:  #j是用来判断是否有符号位\n",
    "            if i.isdigit():  # isdigit函数\n",
    "                res *= 10\n",
    "                res += int(i)\n",
    "            else: break\n",
    "        res *= sign\n",
    "            \n",
    "        return max(min(res, 2**31-1), -2**31)  # 最后的表达式非常巧妙！！"
   ]
  },
  {
   "cell_type": "markdown",
   "metadata": {},
   "source": [
    "这种问题其实并不难，主要是要考察你对于边界问题的理解，考虑得是否周到。所以以后拿到题以后要动笔把所有情况列出来，逐一排除即可。\n",
    "strip函数：去除字符串中前部和尾部特定的字符，默认是空格与换行（不能去除内部）\n",
    "join函数：再次使用了join，把list中的元素连接到一起，返回的是字符串！"
   ]
  },
  {
   "cell_type": "markdown",
   "metadata": {},
   "source": [
    "# Palindrome Number"
   ]
  },
  {
   "cell_type": "code",
   "execution_count": 1,
   "metadata": {},
   "outputs": [],
   "source": [
    "class Solution:\n",
    "    def isPalindrome(self, x):\n",
    "        \"\"\"\n",
    "        :type x: int\n",
    "        :rtype: bool\n",
    "        \"\"\"\n",
    "        x = str(x)\n",
    "        i = 0\n",
    "        n = len(x)\n",
    "        if x[i] == '-' or x[i] == '+':\n",
    "            return False\n",
    "        while i < 0.5*n:\n",
    "            if x[i] == x[n-i-1]:\n",
    "                i += 1\n",
    "                continue\n",
    "            else: return False\n",
    "        return True"
   ]
  },
  {
   "cell_type": "markdown",
   "metadata": {},
   "source": [
    "关键是要把odd与even两种情况合并到一起，另外注意or语句连接的是两个独立的句子，这个需要注意一下。\n",
    "不能把int直接转成list，转成str也可以。"
   ]
  },
  {
   "cell_type": "markdown",
   "metadata": {},
   "source": [
    "# 17. Letter Combinations of a Phone Number"
   ]
  },
  {
   "cell_type": "markdown",
   "metadata": {},
   "source": [
    "## solution 1(dfs)"
   ]
  },
  {
   "cell_type": "code",
   "execution_count": 1,
   "metadata": {},
   "outputs": [],
   "source": [
    "    def letterCombinations(self, digits):\n",
    "        \"\"\"\n",
    "        :type digits: str\n",
    "        :rtype: List[str]\n",
    "        \"\"\"\n",
    "        dic = {'2': 'abc', '3': 'def', '4': 'ghi', '5': 'jkl', '6': 'mno',\n",
    "              '7': 'pqrs', '8': 'tuv', '9': 'wxyz'}\n",
    "        if len(digits) == 0:\n",
    "            return []\n",
    "        l1, l2 = [''], []\n",
    "        for digit in digits:\n",
    "            for letter in dic[digit]:\n",
    "                for i in l1:\n",
    "                    l2.append(i + letter)\n",
    "            l1 = l2.copy()\n",
    "            l2 = []\n",
    "        return l1\n"
   ]
  },
  {
   "cell_type": "markdown",
   "metadata": {},
   "source": [
    "拿到题直接把字典写出来，不要浪费太多时间在想如何分片上\n",
    "深搜其实就是稳扎稳打，一个一个for循环去写\n",
    "这里要写两个list，储存刚刚连接好的str，注意：l1里面的‘’不能省略，否则最后一个for循环就不会执行;\n",
    "copy（）的用法再次加深印象，这叫浅复制，只复制数值。（一般都用这个）"
   ]
  },
  {
   "cell_type": "markdown",
   "metadata": {},
   "source": [
    "## solution 2(recursive）"
   ]
  },
  {
   "cell_type": "markdown",
   "metadata": {},
   "source": [
    "# 4. Median of Two Sorted Arrays"
   ]
  },
  {
   "cell_type": "code",
   "execution_count": null,
   "metadata": {},
   "outputs": [],
   "source": [
    "class Solution:\n",
    "    def findMedianSortedArrays(self, nums1, nums2):\n",
    "        \"\"\"\n",
    "        :type nums1: List[int]\n",
    "        :type nums2: List[int]\n",
    "        :rtype: float\n",
    "        \"\"\"\n",
    "        m, n = len(nums1), len(nums2)\n",
    "        if n < m:\n",
    "            m, n, nums1, nums2 = n, m, nums2, nums1\n",
    "        mleft, mright = 1, m\n",
    "        half = (m+n+1)//2  #加1是有原因的！\n",
    "        while 1:\n",
    "            i = (mleft + mright)//2\n",
    "            j = half - i\n",
    "            if i<m and nums2[j-1] > nums1[i]:\n",
    "                mleft = i+1\n",
    "            elif i>0 and nums1[i-1] > nums2[j]:\n",
    "                mright = i-1\n",
    "            else: \n",
    "                if i == 0:\n",
    "                    max_left = nums2[j-1]\n",
    "                elif j == 0:\n",
    "                    max_left = nums1[i-1]\n",
    "                else: max_left = max(nums1[i-1], nums2[j-1])  # 以上五句可以用 max_left = max(nums1[i-1:i], nums2[j-1:j])来代替\n",
    "                if (m+n)%2 == 1:\n",
    "                    return max_left\n",
    "                if j == n:\n",
    "                    min_right = nums1[i]\n",
    "                elif i == m:  #当nums1与nums2等长的时候可能会执行它\n",
    "                    min_right = nums2[j]\n",
    "                else: min_right = min(nums1[i], nums2[j])\n",
    "                return 0.5*(min_right + max_left)"
   ]
  },
  {
   "cell_type": "markdown",
   "metadata": {},
   "source": [
    "此题是hard难度，能够明显感觉到边界条件显著增加：\n",
    "* 首先考虑当nums1为【】的情况（i = 0）\n",
    "* 其次是当1和2两个集合如果长度相同的情况（n=m）\n",
    "* 第三是当i等于0或者m的情况\n",
    "思路是这样：先把i和j分别等于0的情况写出来，因为他们两个是同一类的，都是max_left比较特殊，最后写一般情况下的maxleft。\n",
    "接下来如果m+n为odd的话，那么odd就只和maxleft有关，因为i+j= (m+n+1)//2，注意有➕1 ！！这样当m+n为奇数时，由分割线隔开的左右两个部分就会差一个数字（左边比右边多一个数字）。\n",
    "然后再综合考虑m+n为even的情况：min_right也有两种特殊情况，就是j=n和i=m。\n",
    "本题巧妙的地方在于：一个是把最后求解的部分按照求左右边界分成了两大类，每一类中又分为三种情况，条理清晰；此外对于i和j的构造也很好，i和j同m和n一样，都是表示第几个数的意思，在【】里面的需要➖1，就不会造成混淆；还有就是我们只移动i，j写成i的函数，也同样很清晰。"
   ]
  },
  {
   "cell_type": "markdown",
   "metadata": {},
   "source": [
    "# 32. Longest Valid Parentheses"
   ]
  },
  {
   "cell_type": "code",
   "execution_count": 4,
   "metadata": {},
   "outputs": [],
   "source": [
    "class Solution:\n",
    "    def longestValidParentheses(self, s):\n",
    "        \"\"\"\n",
    "        :type s: str\n",
    "        :rtype: int\n",
    "        \"\"\"\n",
    "        # counting = 0\n",
    "        if len(s) < 2:\n",
    "            return 0\n",
    "        counting = [-1] * len(s)  # put the length corresponding to each element into this list. you can't set counting like ['']*xxx, because it can't convert str into int.\n",
    "        \n",
    "        def dp(i):\n",
    "            if i < 1: # i = len(s)-1, i<1 means length < 2, then it's impossible to have a pair in it.\n",
    "                counting[i] = 0\n",
    "            else:\n",
    "                if s[i] == '(':\n",
    "                    counting[i] = 0\n",
    "                elif i > 1 and s[i - 1] == '(':\n",
    "                    counting[i] = counting[i-2] + 2\n",
    "                elif i == 1 and s[i - 1] == '(':\n",
    "                    counting[i] = 2\n",
    "                else:\n",
    "                    length = counting[i-1]\n",
    "                    if i-length-1 > 0 and s[i - length - 1] == '(':\n",
    "                        counting[i] = length + 2 + counting[i-length-2]\n",
    "                    elif i-length-1 == 0 and s[i-length-1] == '(':\n",
    "                        counting[i] = counting[i-1] + 2\n",
    "                    else:\n",
    "                        counting[i] = 0\n",
    "            return\n",
    "        \n",
    "        for j in range(len(s)):\n",
    "            dp(j)\n",
    "        return max(counting)"
   ]
  },
  {
   "cell_type": "markdown",
   "metadata": {},
   "source": [
    "* Top-Down 的DP方法\n",
    "* 和递归很像，只不过把之前算过的数值存起来了\n",
    "* dp函数里：i是index，代表以s【i】结尾，看以它结尾的最大length是什么，存进counting中去，因为是从头向后一个个算的，所以算后面的length时就\n",
    "直接用前面的了。\n",
    "* 分几种情况：1，如果i对应的str是（，那么它不可能是某pair/某些pairs的结尾，返回0\n",
    "* 2， 如果结尾时），那么又要分三种情况：1，倒数第二个是（，那么这两个可以组成一个pair，指针往前移动两个并且length要加2，还有因为移动了两个，就要注意index out of range的问题；2，如果倒数第二个还是 ），那么就要看这个倒数第二个）有没有与之配对的，我们假设有和它配对的，它的配对长度是\n",
    "dp（s【：i】， i-1）（如果没配对的话该长度为0），这样就能求出和i配对的（的位置，如果该位置上出现的确实是（，则成功配对，counting中要加上2，加上配对成功的这一对（）内部的配对length，加上在（ 前面的配对长度（这样就能连接起来）。注意这里又有指针移动问题，\n",
    "*切记，只要指针移动了就一定要考虑边界条件。*\n",
    "*  3，最后一种情况是未能成功配对，直接返回0."
   ]
  },
  {
   "cell_type": "markdown",
   "metadata": {},
   "source": [
    "# 10. Regular Expression Matching"
   ]
  },
  {
   "cell_type": "code",
   "execution_count": 5,
   "metadata": {},
   "outputs": [],
   "source": [
    "class Solution(object):\n",
    "    def isMatch(self, text, pattern):\n",
    "        memo = {}\n",
    "        def dp(i, j):\n",
    "            if (i, j) not in memo: # memo is a storage dict\n",
    "                if j == len(pattern): # boundary, 必须把j放在这行，i放在下一行；因为存在i先用完了，但是j停留在原处的情况（重复的情况）\n",
    "                    ans = i == len(text) # this expression is very efficient and simple!!\n",
    "                else:\n",
    "                    first_match = i < len(text) and pattern[j] in {text[i], '.'} #用这行来限制i，j已经由上面的if语句限制完了\n",
    "                    if j+1 < len(pattern) and pattern[j+1] == '*': # another boundary, prevent index in pattern to go beyond.\n",
    "                        ans = dp(i, j+2) or first_match and dp(i+1, j) # two ways, connected with 'or', (and is prior to or), \n",
    "                    else:                                                           # one way is to give up the first two characters 'x*', and compare from the third charac..\n",
    "                        ans = first_match and dp(i+1, j+1)               # another way is to continue compare with text using the whole pattern(repetition: aaabc)\n",
    "                memo[i, j] = ans                                               # 但是首先要求firts match是true的，也就是说boundary满足，并且第一项匹配。\n",
    "            return memo[i, j]                                                  #如果上面的都没有满足，则直接进行match，firstmatch在此处发挥重要作用，如果不成功的话它直接为FalseFase\n",
    "\n",
    "        return dp(0, 0)"
   ]
  },
  {
   "cell_type": "markdown",
   "metadata": {},
   "source": [
    "top-down dp解法：也叫做：recursion with caching；\n",
    "* 该题对于 == 的运用特别巧妙，好好看看\n",
    "* 先按照pattern中第二个str是不是*来看，如果是的话xxxx，不是的话xxxx。\n",
    "其中 是 的情况下有两种方式可以走，只要有一条路走得通就行，所以用or。\n",
    "* 如果第二个str不是*的话，那就只能直接匹配，因为有index的移动，所以加上边界： i< len(text)"
   ]
  },
  {
   "cell_type": "code",
   "execution_count": null,
   "metadata": {},
   "outputs": [],
   "source": [
    "#bottom-up dp解法：上面递归方法还需要压栈，写成下面这样就没有后顾之忧，从最后面往前一步步计算，时间复杂度同为O（sp），空间复杂度也为sp；\n",
    "\n",
    "class Solution:\n",
    "    def isMatch(self, s: 'str', p: 'str') -> 'bool':\n",
    "        len_s = len(s)\n",
    "        len_p = len(p)\n",
    "        dp = [[False] * (len_p+1) for _ in range(len_s+1)]  # 多一行一列！其实只有dp[-1][-1]有用，这时表明匹配完全，返回True\n",
    "        dp[-1][-1] = True\n",
    "        for i in range(len_s, -1, -1):  # i在s中可以多向后走一位，以应对‘aa‘，’a*‘的情况；\n",
    "            for j in range(len_p-1, -1, -1):\n",
    "                match = i < len_s and p[j] in ['.', s[i]]  # i<len(s)是为了防止i=len_s的情况，直接让match=False；\n",
    "                if j+1 < len_p and p[j+1] == '*':\n",
    "                    dp[i][j] = match and dp[i+1][j] or dp[i][j+2]  # j+2的取值并不需要限制，因为dp的范围中是可以容纳j+2(len_p+1)的，但是p不行；\n",
    "                else:\n",
    "                    dp[i][j] = match and dp[i+1][j+1]\n",
    "        return dp[0][0]\n",
    "\n",
    "    \n",
    "# 空间复杂度为Op的解法：由二维数组变成一维；\n",
    "# 有两个vector，不断交替地存储；\n",
    "class Solution:\n",
    "    def isMatch(self, s: 'str', p: 'str') -> 'bool':\n",
    "        len_s = len(s)\n",
    "        len_p = len(p)\n",
    "        dp = [[False] * (len_p+1) for _ in range(2)]\n",
    "        dp[len_s%2][-1] = True\n",
    "        for i in range(len_s, -1, -1):\n",
    "            for j in range(len_p, -1, -1):  # 这里对于j的遍历有变化！\n",
    "                if i == len_s and j == len_p:\n",
    "                    continue\n",
    "                match = i < len_s and j < len_p and p[j] in ['.', s[i]]\n",
    "                if j+1 < len_p and p[j+1] == '*':\n",
    "                    dp[i%2][j] = match and dp[(i+1)%2][j] or dp[i%2][j+2]\n",
    "                else:\n",
    "                    dp[i%2][j] = match and dp[(i+1)%2][j+1]\n",
    "        return dp[0][0]"
   ]
  },
  {
   "cell_type": "markdown",
   "metadata": {},
   "source": [
    "# Longest Valid Parentheses (solution 2 using stack)"
   ]
  },
  {
   "cell_type": "code",
   "execution_count": 1,
   "metadata": {},
   "outputs": [],
   "source": [
    "class Solution:\n",
    "    def longestValidParentheses(self, s):\n",
    "        \"\"\"\n",
    "        :type s: str\n",
    "        :rtype: int\n",
    "        \"\"\"\n",
    "        # counting = 0\n",
    "        index = []\n",
    "        res = 0\n",
    "        left = -1\n",
    "        if len(s) < 2:\n",
    "            return 0\n",
    "        for i in range(len(s)):\n",
    "            if s[i] == '(':\n",
    "                index.append(i)\n",
    "            else:\n",
    "                if not index:\n",
    "                    left = i\n",
    "                else:\n",
    "                    index.pop()\n",
    "                    if not index:\n",
    "                        res = max(res, i-left)\n",
    "                    else:\n",
    "                        res = max(res, i-index[-1])\n",
    "        return res"
   ]
  },
  {
   "cell_type": "markdown",
   "metadata": {},
   "source": [
    "* The code is very simple when we are using stack.\n",
    "* In python, list has characteristics of stack, last in first out, which means that we only manipulate elements at the end of list.\n",
    "* 有点像消消乐。。\n",
    "* 注意的是：left在里面的用法。left也是用来当作index的。"
   ]
  },
  {
   "cell_type": "markdown",
   "metadata": {},
   "source": [
    "# 94. Binary Tree Inorder Traversal"
   ]
  },
  {
   "cell_type": "code",
   "execution_count": 2,
   "metadata": {},
   "outputs": [],
   "source": [
    "# 方法一：Recursion\n",
    "class Solution:\n",
    "    \n",
    "    def inorderTraversal(self, root):\n",
    "        \n",
    "        def helper(root, res):\n",
    "            if root == None:\n",
    "                return []\n",
    "            helper(root.left, res)\n",
    "            res.append(root.val)\n",
    "            helper(root.right, res)\n",
    "            return res\n",
    "        \n",
    "        return helper(root, [])\n",
    "    \n",
    "class Solution:  #少一个传参res\n",
    "    def __init__(self):\n",
    "        self.res = []\n",
    "    def inorderTraversal(self, root):\n",
    "        \"\"\"\n",
    "        :type root: TreeNode\n",
    "        :rtype: List[int]\n",
    "        \"\"\"\n",
    "        if not root:\n",
    "            return []  #作用 防止初始root就是[]\n",
    "        self.inorderTraversal(root.left)\n",
    "        self.res.append(root.val)\n",
    "        self.inorderTraversal(root.right)\n",
    "        return self.res\n",
    "# We can build a function inside the function, and call it every time, and we can add another variable for this function.\n",
    "\n",
    "# 方法二：Iteration\n",
    "class Solution:\n",
    "    \n",
    "    def inorderTraversal(self, root):\n",
    "        res, stack = [], []  # 此处不能用连等于，否则res和stack指向的是同一地址空间，一个修改另外一个也跟着改。\n",
    "        while root or stack:  # stack或root必有一个；\n",
    "            if root:  # 如果root存在\n",
    "                stack.append(root) # stack is storing subtrees, not just nodes.\n",
    "                root = root.left\n",
    "            else:  # 如果stack存在\n",
    "                node = stack.pop()  # 走到最下面才pop；\n",
    "                res.append(node.val) \n",
    "                root = node.right\n",
    "        return res"
   ]
  },
  {
   "cell_type": "markdown",
   "metadata": {},
   "source": [
    "# 144. Binary Tree Preorder Traversal"
   ]
  },
  {
   "cell_type": "code",
   "execution_count": null,
   "metadata": {},
   "outputs": [],
   "source": [
    "# 递归方法：\n",
    "\n",
    "class Solution:\n",
    "    def __init__(self):\n",
    "        self.res = []\n",
    "    def preorderTraversal(self, root: TreeNode) -> List[int]:\n",
    "        if not root:\n",
    "            return []\n",
    "        self.res.append(root.val)\n",
    "        self.preorderTraversal(root.left)\n",
    "        self.preorderTraversal(root.right)\n",
    "        \n",
    "        return self.res\n",
    "\n",
    "# iteration方法：\n",
    "\n",
    "class Solution:\n",
    "    def preorderTraversal(self, root: TreeNode) -> List[int]:\n",
    "        res, stack = [], []\n",
    "        while root or stack:\n",
    "            if root:\n",
    "                stack.append(root)\n",
    "                res.append(root.val)\n",
    "                root = root.left\n",
    "            else:\n",
    "                node = stack.pop()\n",
    "                root = node.right  # 注意这个地方：root = node.right, 不能写成root = stack[-1].right！！\n",
    "        return res\n",
    "    \n",
    "# iteration的另一种方法：stack中只存储右侧的节点，如果左边没有节点了立刻跳至右边；\n",
    "class Solution:\n",
    "    def preorderTraversal(self, root: TreeNode) -> List[int]:\n",
    "        res, stack = [], []\n",
    "        while True:\n",
    "            if root:\n",
    "                res.append(root.val)\n",
    "                stack.append(root.right)\n",
    "                root = root.left\n",
    "            elif stack:\n",
    "                root = stack.pop()\n",
    "            else:\n",
    "                return res"
   ]
  },
  {
   "cell_type": "markdown",
   "metadata": {},
   "source": [
    "# 145. Binary Tree Postorder Traversal"
   ]
  },
  {
   "cell_type": "code",
   "execution_count": null,
   "metadata": {},
   "outputs": [],
   "source": [
    "#递归方法：\n",
    "\n",
    "class Solution:\n",
    "    def __init__(self):\n",
    "        self.res = []\n",
    "    \n",
    "    def postorderTraversal(self, root: TreeNode) -> List[int]:\n",
    "        if not root:\n",
    "            return []\n",
    "        self.postorderTraversal(root.left)\n",
    "        self.postorderTraversal(root.right)\n",
    "        self.res.append(root.val)\n",
    "        return self.res\n",
    "    \n",
    "# 很特殊的解法！！先将前序遍历更改为root》right》left的顺序，然后再对结果取倒序！\n",
    "    def postorderTraversal(self, root: TreeNode) -> List[int]:\n",
    "        res, stack = [], []\n",
    "        while root or stack:\n",
    "            if root:\n",
    "                stack.append(root)\n",
    "                res.append(root.val)\n",
    "                root = root.right\n",
    "            else:\n",
    "                node = stack.pop()\n",
    "                root = node.left\n",
    "        return res[::-1]"
   ]
  },
  {
   "cell_type": "markdown",
   "metadata": {},
   "source": [
    "# 96. Unique Binary Search Trees"
   ]
  },
  {
   "cell_type": "code",
   "execution_count": null,
   "metadata": {},
   "outputs": [],
   "source": [
    "## DP解法：自下而上地求解\n",
    "def numTrees(self, n):\n",
    "    G = [0] * (n+1)   #巧妙的将我们要求的数值都存在list里，这种情况并不需要字典了，因为子树的node数和index刚好对应。\n",
    "    G[0], G[1] = 1, 1\n",
    "    for i in range(2, n+1):\n",
    "        for j in range(i):\n",
    "            G[i] += G[j] * G[i-j-1]\n",
    "    return G[n]\n",
    "\n",
    "## Recursion解法：自上而下地求解\n",
    "def __init__(self):\n",
    "    self.dict = {0: 1, 1: 1, 2: 2, 3: 5}\n",
    "    self.res = 0\n",
    "def numTrees(self, n):\n",
    "    for a in range(n):\n",
    "        b = n-a-1\n",
    "        if a in self.dict:\n",
    "            a_val = self.dict[a]            \n",
    "        else:\n",
    "            a_val = self.numTrees(a)\n",
    "            self.dict[a] = a_val\n",
    "        if b in self.dict:\n",
    "            b_val = self.dict[b]\n",
    "            self.res += a_val * b_val\n",
    "        else:\n",
    "            b_val = self.numTrees(b)\n",
    "            self.dict[b] = b_val\n",
    "    return self.res\n",
    "\n",
    "#两者都是把复杂问题拆分成子问题，但是dp是自下而上进行求解，这样就可以把子问题的解求出来并储存。不需要进行重复计算。\n",
    "#而递归方法是从顶层逐步迭代到底层，中间由于堆栈存储了大量临时数据，当内存不够时便会出现栈溢出的现象。\n",
    "#DP就是记忆化的递归方法。"
   ]
  },
  {
   "cell_type": "markdown",
   "metadata": {},
   "source": [
    "# 104. Maximum Depth of Binary Tree"
   ]
  },
  {
   "cell_type": "code",
   "execution_count": 2,
   "metadata": {},
   "outputs": [
    {
     "ename": "SyntaxError",
     "evalue": "invalid character in identifier (<ipython-input-2-867cee494dc6>, line 1)",
     "output_type": "error",
     "traceback": [
      "\u001b[0;36m  File \u001b[0;32m\"<ipython-input-2-867cee494dc6>\"\u001b[0;36m, line \u001b[0;32m1\u001b[0m\n\u001b[0;31m    dp解法，利用stack存储信息：\u001b[0m\n\u001b[0m                    ^\u001b[0m\n\u001b[0;31mSyntaxError\u001b[0m\u001b[0;31m:\u001b[0m invalid character in identifier\n"
     ]
    }
   ],
   "source": [
    "# dp解法，利用stack存储信息：\n",
    "    def maxDepth(self, root):\n",
    "        maxdepth = 1\n",
    "        d = []\n",
    "        d.append((root,maxdepth))\n",
    "        hyperdepth = 0\n",
    "        while d:\n",
    "            node,maxdepth = d.pop()\n",
    "            if node:\n",
    "                hyperdepth = max(hyperdepth,maxdepth)\n",
    "                if node.left:\n",
    "                    d.append((node.left,maxdepth+1))\n",
    "\n",
    "                if node.right:\n",
    "                    d.append((node.right,maxdepth+1))\n",
    "        return hyperdepth\n",
    "    \n",
    "# 递归解法：\n",
    "    def maxDepth(self, root):\n",
    "        \"\"\"\n",
    "        :type root: TreeNode\n",
    "        :rtype: int\n",
    "        \"\"\"\n",
    "        def recursion(root):\n",
    "            if root:\n",
    "                return 1 + max(recursion(root.left), recursion(root.right))\n",
    "            else:\n",
    "                return 0\n",
    "        return recursion(root)\n",
    "        "
   ]
  },
  {
   "cell_type": "markdown",
   "metadata": {},
   "source": [
    "# 105. Construct Binary Tree from Preorder and Inorder Traversal"
   ]
  },
  {
   "cell_type": "code",
   "execution_count": null,
   "metadata": {},
   "outputs": [],
   "source": [
    "# 两种递归方法：\n",
    "class Solution:  #第一种是每次都要用index方法查询元素在list中的位置；\n",
    "    def buildTree(self, preorder, inorder):\n",
    "        if not inorder:\n",
    "            return None\n",
    "        if len(inorder) == 1:\n",
    "            return TreeNode(inorder[0])\n",
    "        node = preorder[0]\n",
    "        root = TreeNode(node)\n",
    "        i = inorder.index(node)\n",
    "        root.left = self.buildTree(preorder[1:i+1], inorder[0:i])  #注意！！调用自身，也需要写self\n",
    "        root.right = self.buildTree(preorder[i+1:], inorder[i+1:])\n",
    "        return root\n",
    "\n",
    "\n",
    "class Solution:  #第二种方法是将list中的位置存在了字典里，然后再从内部调用helper函数\n",
    "    def buildTree(self, preorder, inorder): #  preorder，inorder相当于全局变量，helper可以直接用\n",
    "        if not preorder:\n",
    "            return None\n",
    "        index_list = {}\n",
    "        for i, item in enumerate(inorder):\n",
    "            index_list[item] = i\n",
    "\n",
    "        def helper(start, end):\n",
    "            if end < start:\n",
    "                return None\n",
    "            node = preorder.pop(0)  #pop（）函数，可以选择坐标来删除；所有子结点都可以看作子树的root，所以挨个遍历。\n",
    "            index = index_list[node]\n",
    "            root = TreeNode(node)\n",
    "            root.left = helper(start, index - 1)\n",
    "            root.right = helper(index + 1, end)\n",
    "            return root\n",
    "            \n",
    "        return helper(0, len(inorder)-1)"
   ]
  },
  {
   "cell_type": "markdown",
   "metadata": {},
   "source": [
    "# 114. Flatten Binary Tree to Linked List"
   ]
  },
  {
   "cell_type": "code",
   "execution_count": null,
   "metadata": {},
   "outputs": [],
   "source": [
    "# 注意！！本题要求什么都不返回，in-place修改。\n",
    "\n",
    "# 没有进行前序遍历的解法：思路相当于把以root.right为根的子树整根剪下来，插在左子树的最最右端。。这样实际上再进行preorder时效果是相同的。\n",
    "        def flatten(self, root):\n",
    "            if not root or not root.left and not root.right:  #首先判断，如果树是空的，或者只有一个root的话，什么都不做\n",
    "                return None\n",
    "            if root.left:  #如果左孩子存在的话，再进行剪枝和插入，否则直接进入下一轮递归\n",
    "                current = root.left\n",
    "                while current.right:  #找到左子树的最右端\n",
    "                    current = current.right\n",
    "                current.right = root.right  #剪枝\n",
    "                root.right = root.left  #替换\n",
    "                root.left = None\n",
    "            self.flatten(root.right)  #虽然再次调用函数形成递归，但是上一个函数已经出栈，所以栈内只有一个函数。"
   ]
  },
  {
   "cell_type": "markdown",
   "metadata": {},
   "source": [
    "# 49. Group Anagrams"
   ]
  },
  {
   "cell_type": "code",
   "execution_count": null,
   "metadata": {},
   "outputs": [],
   "source": [
    "# 1. Hash table的做法：采用素数相乘的办法，得到不会重复的hash key。\n",
    "from functools import reduce  # reduce接受两个对象：第一个是一个函数，可以是lambda；第二个是一个可迭代对象，比如list。此处是两两相乘\n",
    "from operator import mul  #乘法函数\n",
    "class Solution:\n",
    "    def groupAnagrams(self, strs):\n",
    "        \"\"\"\n",
    "        :type strs: List[str]\n",
    "        :rtype: List[List[str]]\n",
    "        \"\"\"\n",
    "        primes = [2, 3, 5, 7, 11, 13, 17, 19, 23, 29, 31, 37, 41, 43,\n",
    "                  47, 53, 59, 61, 67, 71, 73, 79, 83, 89, 97, 101]  # 26个素数\n",
    "        res = {}\n",
    "        for str_ in strs:\n",
    "            key = reduce(mul, [primes[ord(c) - ord('a')] for c in str_]) \\  #in-function ord函数：返回ascii码\n",
    "                                                            if str_ else \"\"  # ['']不是空的，而‘’自身是None，防止这种情况进入reduce函数报错\n",
    "            res.setdefault(key, []).append(str_)  #setdefault函数：从字典里查找对应key值的value，如果没有的话返回[]；\n",
    "        return list(res.values())\n",
    "\n",
    "# 2. 第二种方法：把每个字符串先排序\n",
    "class Solution:\n",
    "    def groupAnagrams(self, strs):\n",
    "        \"\"\"\n",
    "        :type strs: List[str]\n",
    "        :rtype: List[List[str]]\n",
    "        \"\"\"\n",
    "        res = {}\n",
    "        for item in strs:\n",
    "            res.setdefault(''.join(sorted(item)), []).append(item)  #此处注意！sorted排序后是生成一个list：['b', 'c', 'a', 'e'.......]，并不是连续的字符串。\n",
    "        return list(res.values())"
   ]
  },
  {
   "cell_type": "markdown",
   "metadata": {},
   "source": [
    "# 226. Invert Binary Tree"
   ]
  },
  {
   "cell_type": "code",
   "execution_count": null,
   "metadata": {},
   "outputs": [],
   "source": [
    "# 递归算法：\n",
    "    def invertTree(self, root):\n",
    "        if root:\n",
    "            root.left, root.right = self.invertTree(root.right), \\\n",
    "                                    self.invertTree(root.left)\n",
    "        return root\n",
    "\n",
    "# DFS算法：利用stack存储结点信息\n",
    "    def invertTree(self, root):\n",
    "        stack = [root]\n",
    "        while stack:\n",
    "            node = stack.pop()\n",
    "            if node:\n",
    "                node.right, node.left = node.left, node.right\n",
    "                stack.extend([node.right, node.left])\n",
    "        return root\n",
    "    \n",
    "# 本题不难，但是关键要记住，要理解交换树的node以后，整个子树都被交换了！而不只是两个node的value值。"
   ]
  },
  {
   "cell_type": "markdown",
   "metadata": {},
   "source": [
    "# 11. Container With Most Water"
   ]
  },
  {
   "cell_type": "code",
   "execution_count": null,
   "metadata": {},
   "outputs": [],
   "source": [
    "    def maxArea(self, height):\n",
    "        \"\"\"\n",
    "        :type height: List[int]\n",
    "        :rtype: int\n",
    "        \"\"\"\n",
    "        i, j = 0, len(height) - 1\n",
    "        h = 0\n",
    "        while i < j:\n",
    "            h = max(h, (j-i)*min(height[i], height[j]))\n",
    "            if height[i] <= height[j]:\n",
    "                i += 1\n",
    "            else:\n",
    "                j -=1\n",
    "        return h\n",
    "    # 时间复杂度O（n），永远都去移动数值小的那个对应坐标。因为我们面临的是短板问题，移动数值大的并没有用。"
   ]
  },
  {
   "cell_type": "markdown",
   "metadata": {},
   "source": [
    "# 19. Remove Nth Node From End of List"
   ]
  },
  {
   "cell_type": "code",
   "execution_count": null,
   "metadata": {},
   "outputs": [],
   "source": [
    "    def removeNthFromEnd(self, head, n):\n",
    "        \"\"\"\n",
    "        :type head: ListNode\n",
    "        :type n: int\n",
    "        :rtype: ListNode\n",
    "        \"\"\"\n",
    "        fast = slow = head  #注意此种写法！！head指向的是一个不变的静态的地址，所以才可以这样写\n",
    "        for i in range(n):\n",
    "            fast = fast.next\n",
    "        if not fast:\n",
    "            return head.next\n",
    "        while fast.next:\n",
    "            slow = slow.next\n",
    "            fast = fast.next\n",
    "        slow.next = slow.next.next\n",
    "        return head\n",
    "    \n",
    "   # 因为值链表，无法确定链表长度。\n",
    "   # 先让fast提前走n步，然后slow再跟着走，直到fast到最后位置时，也就确定了要删除结点的位置。\n",
    " #   注意 返回的是链表的head"
   ]
  },
  {
   "cell_type": "markdown",
   "metadata": {},
   "source": [
    "# 20. Valid Parentheses"
   ]
  },
  {
   "cell_type": "code",
   "execution_count": null,
   "metadata": {},
   "outputs": [],
   "source": [
    "    def isValid(self, s):\n",
    "        \"\"\"\n",
    "        :type s: str\n",
    "        :rtype: bool\n",
    "        \"\"\"\n",
    "        if len(s) == 0:\n",
    "            return True\n",
    "        if len(s) % 2 == 1:  #奇数项，直接pass\n",
    "            return False\n",
    "        stack = [s[0]]\n",
    "        for item in s[1:]:\n",
    "            stack.append(item)\n",
    "            if stack[-2] == '(' and stack[-1] == ')' or stack[-2] == '[' and stack[-1] == ']' or stack[-2] == '{' and stack[-1] == '}':\n",
    "                del stack[-2:]  #删除后两项元素。\n",
    "            if not stack:\n",
    "                return True\n",
    "        return False"
   ]
  },
  {
   "cell_type": "markdown",
   "metadata": {},
   "source": [
    "# 21. Merge Two Sorted Lists"
   ]
  },
  {
   "cell_type": "code",
   "execution_count": null,
   "metadata": {},
   "outputs": [],
   "source": [
    "# 第一种方法：迭代法\n",
    "class Solution:\n",
    "    def mergeTwoLists(self, l1, l2):\n",
    "        \"\"\"\n",
    "        :type l1: ListNode\n",
    "        :type l2: ListNode\n",
    "        :rtype: ListNode\n",
    "        \"\"\"\n",
    "        node = new_list = ListNode(0)\n",
    "        while l1 and l2:\n",
    "            if l1.val < l2.val:\n",
    "                new_list.next = l1\n",
    "                l1 = l1.next\n",
    "                new_list = new_list.next\n",
    "            else:\n",
    "                new_list.next = l2\n",
    "                l2 = l2.next\n",
    "                new_list = new_list.next\n",
    "        if not l1 or not l2:\n",
    "            new_list.next = l1 or l2  #注意这种用法！！之前从没见过：返回l1(如果l1非空)，否则返回l2\n",
    "        return node.next  #再一次，返回链表的head\n",
    "    \n",
    "# 第二种方法：递归法\n",
    "# 仔细研读一下，也很巧妙\n",
    "        def mergeTwoLists(self, l1, l2):\n",
    "        if None in (l1, l2):\n",
    "            return l1 or l2\n",
    "        if l1.val < l2.val:\n",
    "            l1.next = self.mergeTwoLists(l1.next, l2)\n",
    "            return l1\n",
    "        else:\n",
    "            l2.next = self.mergeTwoLists(l1, l2.next)\n",
    "            return l2"
   ]
  },
  {
   "cell_type": "markdown",
   "metadata": {},
   "source": [
    "# 136. Single Number"
   ]
  },
  {
   "cell_type": "code",
   "execution_count": null,
   "metadata": {},
   "outputs": [],
   "source": [
    "# 字典法：\n",
    "    def singleNumber(self, nums):\n",
    "        \"\"\"\n",
    "        :type nums: List[int]\n",
    "        :rtype: int\n",
    "        \"\"\"\n",
    "        dic = {}\n",
    "        for i in nums:\n",
    "            dic[i] = dic.get(i, 0) + 1  #字典的骚操作！！注意和setdefault的区别\n",
    "        for key, value in dic.items():\n",
    "            if value == 1:\n",
    "                return key\n",
    "\n",
    "# XOR方法：\n",
    "# 该问题也可以看作是异或门，python 中^符号表示异或运算。异或特点很简单：就是一样的数字就会返回0；\n",
    "# 并且它在比较两个数字时是将两者同时转化为二进制数字，逐个按位去比较。\n",
    "def singleNumber(self, nums):\n",
    "        \"\"\"\n",
    "        :type nums: List[int]\n",
    "        :rtype: int\n",
    "        \"\"\"\n",
    "        res = 0\n",
    "        for i in nums:\n",
    "            res = res ^ i\n",
    "        return res\n",
    "    \n",
    "# 同样是XOR，换一种表达方法，利用reduce。\n",
    "from functools import reduce\n",
    "class Solution:\n",
    "    def singleNumber(self, nums):\n",
    "        \"\"\"\n",
    "        :type nums: List[int]\n",
    "        :rtype: int\n",
    "        \"\"\"\n",
    "        return reduce(lambda x, y: x^y, nums)"
   ]
  },
  {
   "cell_type": "markdown",
   "metadata": {},
   "source": [
    "# 22. Generate Parentheses"
   ]
  },
  {
   "cell_type": "code",
   "execution_count": null,
   "metadata": {},
   "outputs": [],
   "source": [
    "# DP解法：\n",
    "    \n",
    "    def generateParenthesis(self, n):\n",
    "        \"\"\"\n",
    "        :type n: int\n",
    "        :rtype: List[str]\n",
    "        \"\"\"\n",
    "        dp = [[] for m in range(n+1)]  #要想生成一个list，且list中每一元素仍是一个list时必须用for！！！[a]*n的用法只能生成一个list：[a, a, a....]\n",
    "        dp[0].append('')  #此步非常有必要，虽然n=0没有意义，但是它会帮助我们计算n=1的情况；''在list中是真实的元素，可以被for遍历。但''本身代表None。\n",
    "        for i in range(1, n+1):  #n=0可以省略\n",
    "            for j in range(i):\n",
    "                dp[i] += ['(' + x + ')' + y for x in dp[j] for y in dp[i-j-1]]  #字符串的操作！！若是 a'+'b'则为'ab'; 若是['a']+['b']则为['a', 'b']\n",
    "        return dp[n]\n",
    "    \n",
    "    #这道题思路就是：n的情况可以由n-1的情况来表示，我们要做的相当于是给n-1的各自情况再格外套一个括号。而这个extra parentheses可以套的地方依次\n",
    "    #有n个。"
   ]
  },
  {
   "cell_type": "markdown",
   "metadata": {},
   "source": [
    "# 23. Merge k Sorted Lists"
   ]
  },
  {
   "cell_type": "code",
   "execution_count": null,
   "metadata": {},
   "outputs": [],
   "source": [
    "# 第一种方法是把各个val都扔进一个list中然后sort一下\n",
    "# 第二种方法是用堆：\n",
    "from heapq import heappush, heapreplace, heapify, heappop  #python内置heapq文件，里面都是对于heap的操作\n",
    "class Solution:\n",
    "    def mergeKLists(self, lists):\n",
    "        \"\"\"\n",
    "        :type lists: List[ListNode]\n",
    "        :rtype: ListNode\n",
    "        \"\"\"\n",
    "\n",
    "        nodes = [(n.val, i, n) for i, n in enumerate(lists) if n]  #一定要加上i，因为heap是要根据数值排序的，当n.val相同时即会对第二项i进行排序（对n无法排序\n",
    "        heapify(nodes)\n",
    "        dummy = root = ListNode(0)  #老套路，dummy指向的永远不变，不断去更新root。\n",
    "        while nodes:\n",
    "            v, i, node = nodes[0]  #此处写成（v, i, node）也可以的。\n",
    "            if node.next is None:\n",
    "                heappop(nodes)\n",
    "            else:\n",
    "                heapreplace(nodes, (node.next.val, i, node.next))\n",
    "            root.next = node\n",
    "            root = root.next\n",
    "        return dummy.next\n",
    "    # 时间复杂度是nlogk，其中k是堆的大小，也就是需要被sort的list的数量。"
   ]
  },
  {
   "cell_type": "markdown",
   "metadata": {},
   "source": [
    "# 31. Next Permutation"
   ]
  },
  {
   "cell_type": "code",
   "execution_count": null,
   "metadata": {},
   "outputs": [],
   "source": [
    "# 这里列的两种方法都是同一种算法，只不过方向不同。\n",
    "# 该方法的原理是：（以第一种为例）1. 从左至右依次遍历list，直到找到nums[i]<nums[i+1] with the largest index i（第二种方法是从右往左找）；\n",
    "# 2. 从左往右依次遍历list，直到找到nums[k] > nums[i] with the largest index k （第二种同样从右往左）。所以其实差不多的。\n",
    "class Solution:\n",
    "    def nextPermutation(self, nums):\n",
    "        \"\"\"\n",
    "        :type nums: List[int]\n",
    "        :rtype: void Do not return anything, modify nums in-place instead.\n",
    "        \"\"\"\n",
    "        length = len(nums)\n",
    "        index_i = -1\n",
    "        for i, value in enumerate(nums):\n",
    "            if i < len(nums) - 1:\n",
    "                if value < nums[i+1]:\n",
    "                    index_i = i\n",
    "                    index_k = i+1\n",
    "            if value > nums[index_i]:\n",
    "                index_k = i\n",
    "        if index_i == -1:\n",
    "            nums.reverse()  # in-place操作，但是只能将整个nums反转，不能反转nums的一部分比如nums[i:].reverse()这样是不行的。\n",
    "        else:\n",
    "            nums[index_i], nums[index_k] = nums[index_k], nums[index_i]\n",
    "            l, r= index_i+1, length - 1  #反转list的操作：注意如果普通的分片（slice）操作会更慢，这种事in-place操作。\n",
    "            while l < r:\n",
    "                nums[l], nums[r] = nums[r], nums[l]\n",
    "                l += 1\n",
    "                r -= 1\n",
    "                \n",
    "                \n",
    "class Solution:\n",
    "    def nextPermutation(self, nums):\n",
    "        \"\"\"\n",
    "        :type nums: List[int]\n",
    "        :rtype: void Do not return anything, modify nums in-place instead.\n",
    "        \"\"\"        \n",
    "        length = len(nums)\n",
    "        i = length - 1\n",
    "        index_i = -1\n",
    "        while i > 0:\n",
    "            if i - 1 >= 0:\n",
    "                if nums[i-1] < nums[i]:\n",
    "                    index_i = i-1\n",
    "                    index_k = i\n",
    "                    break\n",
    "            i -= 1\n",
    "        for k in range(length):\n",
    "            if nums[k] > nums[index_i]:\n",
    "                index_k = k\n",
    "        if index_i == -1:\n",
    "            nums.reverse()\n",
    "        else:\n",
    "            nums[index_i], nums[index_k] = nums[index_k], nums[index_i]\n",
    "            l, r= index_i+1, length - 1\n",
    "            nums[index_i+1:] = list(reversed(nums[index_i+1:]))  # 也可以使用这种方法来反转list，reversed返回的是一个迭代器。"
   ]
  },
  {
   "cell_type": "markdown",
   "metadata": {},
   "source": [
    "# 33. Search in Rotated Sorted Array"
   ]
  },
  {
   "cell_type": "code",
   "execution_count": null,
   "metadata": {},
   "outputs": [],
   "source": [
    "    def search(self, nums, target):\n",
    "        \"\"\"\n",
    "        :type nums: List[int]\n",
    "        :type target: int\n",
    "        :rtype: int\n",
    "        \"\"\"\n",
    "        if not nums:\n",
    "            return -1\n",
    "        f, l = nums[0], nums[-1]  # f:first; l:last(下次直接写全)\n",
    "        i, j = 0, len(nums)-1\n",
    "        while i <= j:  # 和正常二分查找很像其实\n",
    "            mid = (i+j)//2\n",
    "            if target == nums[mid]:\n",
    "                return mid\n",
    "            if nums[mid] < l:  \n",
    "                if nums[mid] < target <= l:\n",
    "                    i = mid + 1  #加1和减1都不能省！！\n",
    "                else:\n",
    "                    j = mid - 1\n",
    "            else:\n",
    "                if nums[mid] > target >= f:\n",
    "                    j = mid - 1\n",
    "                else:\n",
    "                    i = mid + 1\n",
    "        return -1"
   ]
  },
  {
   "cell_type": "markdown",
   "metadata": {},
   "source": [
    "# 34. Find First and Last Position of Element in Sorted Array"
   ]
  },
  {
   "cell_type": "code",
   "execution_count": null,
   "metadata": {},
   "outputs": [],
   "source": [
    "# 方法一：利用bisect函数\n",
    "from bisect import bisect_left, bisect  #这是二分查找的内置函数。\n",
    "class Solution:\n",
    "    def searchRange(self, a, target):\n",
    "        if not a: return [-1, -1]\n",
    "        lo = bisect_left(a, target)  #bisect不同于正常的查找，它相当于是尝试往a中插入target，然后记录此时target的坐标（但其实并没有插入）\n",
    "        if lo==len(a) or a[lo] != target: return [-1, -1]  #只需要确认一次，看看a中到底有没有和target相等的值\n",
    "        hi = bisect(a, target)  #同bisect_right函数，都是右插\n",
    "        return [lo, hi-1]\n",
    "    \n",
    "# 方法二：很巧妙，和bisect_left类似，构造的search函数永远只找左边界（first position）\n",
    "class Solution:\n",
    "    def searchRange(self, nums, target):\n",
    "        if not nums:\n",
    "            return [-1, -1]\n",
    "        def search(value):\n",
    "            l, r = 0, len(nums)  #注意！这里和二分查找不一样了，用了len（nums）而没有减1；\n",
    "            while l < r:  #同样，这里也没有等于号；\n",
    "                mid = (l+r)//2\n",
    "                if nums[mid] >= value:\n",
    "                    r = mid  #这不能减1，因为我们要确保左边的partition里含有value；\n",
    "                else:\n",
    "                    l = mid + 1  #右边无所谓了，这里l是有可能超出index范围的，下面的判断语句可以控制；\n",
    "            return l\n",
    "        index_l = search(target)\n",
    "        if target not in nums[index_l:index_l+1]:  # ！！！一定要注意该用法，此时index_l其实可能已经超出index范围，但是不会报错！\n",
    "            return [-1, -1]\n",
    "        index_r = search(target+1) - 1  #这里很巧妙！找到target+1的左边界，它也就是target右边界+1。\n",
    "        return [index_l, index_r]"
   ]
  },
  {
   "cell_type": "markdown",
   "metadata": {},
   "source": [
    "# 42. Trapping Rain Water"
   ]
  },
  {
   "cell_type": "code",
   "execution_count": null,
   "metadata": {},
   "outputs": [],
   "source": [
    "# 方法一：two-pointers双指针方法，复杂度On，空间O1。\n",
    "class Solution:\n",
    "    def trap(self, height):\n",
    "        \"\"\"\n",
    "        :type height: List[int]\n",
    "        :rtype: int\n",
    "        \"\"\"\n",
    "        left, right = 0, len(height) - 1\n",
    "        max_left = max_right = 0\n",
    "        res = 0\n",
    "        while left < right:  #循环条件\n",
    "            if height[left] <= height[right]:  #判断下哪边更低，就从哪边开始灌水；\n",
    "                if height[left] > max_left:\n",
    "                    max_left = height[left]  #如果高度增加，无法加水；\n",
    "                else:\n",
    "                    res += max_left - height[left]\n",
    "                left += 1\n",
    "            else:  #从右边加水的情况，和上面第一个if一样的；\n",
    "                if height[right] > max_right:\n",
    "                    max_right = height[right]\n",
    "                else:\n",
    "                    res += max_right - height[right]\n",
    "                right -= 1\n",
    "        return res\n",
    "    \n",
    "# 方法二：用stack来做，时间复杂度同为On；从前往后依次遍历height，当height[i] 大于height[i-1]时就将其放入stack中，也就是说递减趋势时就放进栈里；\n",
    "            当height[i]增大时，就开始pop stack中元素，求解cumulative sum（max_trap）。\n",
    "class Solution:\n",
    "    def trap(self, height):\n",
    "        i = max_trap = 0\n",
    "        stack = []\n",
    "        while i < len(height):\n",
    "            if not stack or height[i] < height[stack[-1]]:\n",
    "                stack.append(i)\n",
    "                i += 1\n",
    "            else:\n",
    "                bot = stack.pop()  \n",
    "                minimum = min(height[i], height[stack[-1]]) if stack else 0  #其实这句可以放在下面一行，将两者合并为一句\n",
    "                trap = (minimum - height[bot]) * (i-stack[-1]-1) if stack else 0  #不能无休止的pop，需要判断if stack\n",
    "                max_trap += trap  #要注意 在这个else语句里不需要i+=1\n",
    "        return max_trap"
   ]
  },
  {
   "cell_type": "markdown",
   "metadata": {},
   "source": [
    "# 46. Permutations"
   ]
  },
  {
   "cell_type": "code",
   "execution_count": null,
   "metadata": {},
   "outputs": [],
   "source": [
    "# 方法一：递归\n",
    "class Solution:\n",
    "    def permute(self, nums):\n",
    "        return [[item] + p for i, item in enumerate(nums)  #上下两行是一个句子\n",
    "                        for p in self.permute(nums[:i] + nums[i+1:]) or [[]]]  #只能把for语句放在这，如果拿到上面return语句接受一个item就返回了\n",
    "    # 第二个for里面有个or，表示如果for里面是空的则返回or的值。\n",
    "    \n",
    "# 方法二：在前一种排列的基础上插入第n个数字；时间复杂度 O（n*n！）空间复杂度不会分析。。。\n",
    "class Solution:\n",
    "    def permute(self, nums):\n",
    "        \"\"\"\n",
    "        :type nums: List[int]\n",
    "        :rtype: List[List[int]]\n",
    "        \"\"\"\n",
    "        res = [[]]\n",
    "        temp = []\n",
    "        for i in nums:\n",
    "            for t in res:  # t是list\n",
    "                for j in range(len(t)+1):  # 有len（t）+1个位置可以插入；\n",
    "                    temp = temp + [t[:j] + [i] + t[j:]]  #对于list相加，表示的是list中的所有元素进行合并\n",
    "            res = temp  #res和temp互相交替，将temp赋给res后清空temp\n",
    "            temp = []\n",
    "        return res"
   ]
  },
  {
   "cell_type": "markdown",
   "metadata": {},
   "source": [
    "# 300. Longest Increasing Subsequence 最长上升子序列"
   ]
  },
  {
   "cell_type": "code",
   "execution_count": null,
   "metadata": {},
   "outputs": [],
   "source": [
    "# 解法一：DP算法：复杂度是n的平方；\n",
    "            # 思想是：拿到dp问题首先找到最优化的方法，该题就是在res中对应的位置去存储：以nums[i]作为上升序列结尾的list的长度；\n",
    "            # 当你拿到下一个数字时，去拿它依次和nums中的前i个值进行比对，找到比它自身数值小的，而且对应res中的value最大的那个值，在其基础上+1；\n",
    "class Solution:\n",
    "    def lengthOfLIS(self, nums):\n",
    "        if not nums:\n",
    "            return 0\n",
    "        res = [1] * len(nums)  #构建一个存储DP解的list，DP题几乎都需要这样；\n",
    "        for i, item in enumerate(nums[1:]):  #两个for语句，印证了n的平方的复杂度；\n",
    "            for j in range(i+1):\n",
    "                if item > nums[j]:\n",
    "                    res[i+1] = max(res[i+1], res[j]+1)\n",
    "        return max(res)\n",
    "\n",
    "\n",
    "# 解法二：在dp基础上，把查找的方式进行改动，因为上述要较慢遍历nums中的n个值。我们每次在tails中的index位置tails[i]\n",
    "          #  存入上升长度为index+1的所有情况下结尾的数最小的nums值：比如同样都是长度为3的情况，我们存储tail更小的值。这样其实构成了有序序列，\n",
    "           # 复杂度nlogn\n",
    "            \n",
    "class Solution:  #边界情况全都满足，无需单独写明；\n",
    "    def lengthOfLIS(self, nums):        \n",
    "        tails = [0] * len(nums)\n",
    "        length = 0\n",
    "        for item in nums:\n",
    "            i, j = 0, length  #注意j是length，是index+1\n",
    "            while i < j:\n",
    "                mid = (i+j)//2\n",
    "                if item > tails[mid]:\n",
    "                    i = mid + 1\n",
    "                else:\n",
    "                    j = mid  #此处不能减1，因为item<tails[mid]，有可能要替换tails[mid]；\n",
    "            tails[i] = item\n",
    "            length = max(length, i + 1)  #如果放在了最后一个位置，那么就是i+1\n",
    "        return length"
   ]
  },
  {
   "cell_type": "markdown",
   "metadata": {},
   "source": [
    "# 53. Maximum Subarray"
   ]
  },
  {
   "cell_type": "code",
   "execution_count": null,
   "metadata": {},
   "outputs": [],
   "source": [
    "# 简单的dp问题，仍是和前一元素所得到的最大值做比较，如果它的最大值大于0，则对于当前元素无论正负都是累加；b\n",
    "class Solution:\n",
    "    def maxSubArray(self, nums):\n",
    "        \"\"\"\n",
    "        :type nums: List[int]\n",
    "        :rtype: int\n",
    "        \"\"\"\n",
    "        res = [0] * len(nums)\n",
    "        res[0] = nums[0]\n",
    "        if len(nums) == 1:\n",
    "            return res[0]\n",
    "        for i in range(0, len(nums)-1):\n",
    "            if res[i] < 0:\n",
    "                res[i+1] = nums[i+1]\n",
    "            else:\n",
    "                res[i+1] = nums[i+1] + res[i]\n",
    "        return max(res)"
   ]
  },
  {
   "cell_type": "markdown",
   "metadata": {},
   "source": [
    "# 62. Unique Paths"
   ]
  },
  {
   "cell_type": "code",
   "execution_count": null,
   "metadata": {},
   "outputs": [],
   "source": [
    "# DP问题\n",
    "class Solution:\n",
    "    def uniquePaths(self, m, n):\n",
    "        \"\"\"\n",
    "        :type m: int\n",
    "        :type n: int\n",
    "        :rtype: int\n",
    "        \"\"\"\n",
    "        grid = [[1] * n] * m  #只不过存储的list变成了二维的了，注意写法！grid[i][j]储存的是到该点的unique path数量；\n",
    "        for i in range(1, m):\n",
    "            for j in range(1, n):\n",
    "                grid[i][j] = grid[i-1][j] + grid[i][j-1]  #更新方式；某一个方格的来源只能是它的上部以及左边；\n",
    "        return grid[-1][-1]"
   ]
  },
  {
   "cell_type": "markdown",
   "metadata": {},
   "source": [
    "# 13. Roman to Integer"
   ]
  },
  {
   "cell_type": "code",
   "execution_count": null,
   "metadata": {},
   "outputs": [],
   "source": [
    "# 此题当然也可以把所有特殊情况都列举出来，但是此种方法最为简洁，总结出了规律；\n",
    "\n",
    "class Solution:\n",
    "    def romanToInt(self, s):\n",
    "        \"\"\"\n",
    "        :type s: str\n",
    "        :rtype: int\n",
    "        \"\"\"\n",
    "        res = 0\n",
    "        dic = {'I':1, 'V':5, 'X': 10, 'L':50, 'C': 100, 'D': 500, 'M':1000}\n",
    "        for i in range(len(s)-1):\n",
    "            if dic[s[i]] < dic[s[i+1]]:  #正常roman序列就是从大向小排，如果顺序倒过来了那就是特殊情况，需要相减；\n",
    "                res -= dic[s[i]]\n",
    "            else:\n",
    "                res += dic[s[i]]\n",
    "        return res + dic[s[-1]]  #注意 for循环中最后一个数字是没有遍历到的，所以要单独写下；"
   ]
  },
  {
   "cell_type": "markdown",
   "metadata": {},
   "source": [
    "# 14. Longest Common Prefix"
   ]
  },
  {
   "cell_type": "code",
   "execution_count": null,
   "metadata": {},
   "outputs": [],
   "source": [
    "#看似简单实则想很久！！\n",
    "#把最小的那个str拿出来作为s1（最小是指字母排序最小：aaddd小于ab），最大的作为s2；这样s2与s1就是两个最不相同的str了，只需要判断他们俩的相似就可以\n",
    "class Solution:\n",
    "    def longestCommonPrefix(self, m):\n",
    "        if not m: \n",
    "            return ''\n",
    "        s1 = min(m)\n",
    "        s2 = max(m)\n",
    "\n",
    "        for i, c in enumerate(s1):\n",
    "            if c != s2[i]:\n",
    "                return s1[:i]\n",
    "        return s1"
   ]
  },
  {
   "cell_type": "markdown",
   "metadata": {},
   "source": [
    "# 12. Integer to Roman"
   ]
  },
  {
   "cell_type": "code",
   "execution_count": null,
   "metadata": {},
   "outputs": [],
   "source": [
    "class Solution:\n",
    "    def intToRoman(self, num):\n",
    "        \"\"\"\n",
    "        :type num: int\n",
    "        :rtype: str\n",
    "        \"\"\"\n",
    "        a = ['', 'M', 'MM', 'MMM']\n",
    "        b = ['', 'C', 'CC', 'CCC', 'CD', 'D', 'DC', 'DCC', 'DCCC', 'CM']\n",
    "        c = ['', 'X', 'XX', 'XXX', 'XL', 'L', 'LX', 'LXX', 'LXXX', 'XC']\n",
    "        d = ['', 'I', 'II', 'III', 'IV', 'V', 'VI', 'VII', 'VIII', 'IX']\n",
    "        return a[num//1000] + b[num%1000//100] + c[num%100//10] + d[num%10//1]  # %在此处的应用很巧妙；"
   ]
  },
  {
   "cell_type": "markdown",
   "metadata": {},
   "source": [
    "# 24. Swap Nodes in Pairs"
   ]
  },
  {
   "cell_type": "code",
   "execution_count": null,
   "metadata": {},
   "outputs": [],
   "source": [
    "# 方法一：改变node上的val，不改变node之间的关系！\n",
    "    def swapPairs(self, head):\n",
    "        cur = head  # head指向初始位置，一直没变\n",
    "        \n",
    "        while cur and cur.next:  # 要把cur放在前面，以防cur为None的情况\n",
    "            temp = cur.next.val  # 交换cur与cur.next的val\n",
    "            cur.next.val = cur.val\n",
    "            cur.val = temp\n",
    "            \n",
    "            cur = cur.next.next  # 更新cur\n",
    "        return head\n",
    "    \n",
    "# 方法二：改变了node之间的关系；\n",
    "    def swapPairs(self, head):\n",
    "        pre, pre.next = self, head  #注意这里的self！！它是一个变量，self.next当前指向了head对应的地址空间；\n",
    "        while pre.next and pre.next.next:\n",
    "            a = pre.next  # a和b分别为我们要swap的前两个元素对应的地址，它们在同一个while语句下指向的空间是不变的；\n",
    "            b = a.next\n",
    "            pre.next, b.next, a.next = b, a, b.next  # python中这样的语句是将三个变量分别且同时赋值的！\n",
    "                                                                # pre next指向b，b的next指向a，同时将a的next指向b的next（原来的还未赋值前的b next）\n",
    "                                                                # 也可以分开写成：c = b.next; a.next = c\n",
    "            pre = a  # 更新 pre的位置，往前推进两个元素；\n",
    "        return self.next  # 注意！此处不能写head；因为head指向的位置虽然没变，但是该位置已是链表的第二个node了；"
   ]
  },
  {
   "cell_type": "markdown",
   "metadata": {},
   "source": [
    "# 25. Reverse Nodes in k-Group"
   ]
  },
  {
   "cell_type": "code",
   "execution_count": null,
   "metadata": {},
   "outputs": [],
   "source": [
    "class Solution:\n",
    "    def reverseKGroup(self, head, k):\n",
    "        \"\"\"\n",
    "        :type head: ListNode\n",
    "        :type k: int\n",
    "        :rtype: ListNode\n",
    "        \"\"\"\n",
    "        cur = item = head\n",
    "        while cur:\n",
    "            res = []\n",
    "            for i in range(k):  # 首先遍历一遍group中的k个node值，存储在res里；\n",
    "                if item:\n",
    "                    res.append(item.val)\n",
    "                    item = item.next \n",
    "                else: return head\n",
    "            for j in range(k):  # 随后遍历第二次，更改每个node上的val，无需更改node之间的关系\n",
    "                cur.val = res[-j-1]\n",
    "                cur = cur.next\n",
    "        return head"
   ]
  },
  {
   "cell_type": "markdown",
   "metadata": {},
   "source": [
    "# 2. Add Two Numbers"
   ]
  },
  {
   "cell_type": "code",
   "execution_count": 1,
   "metadata": {},
   "outputs": [],
   "source": [
    "class Solution:\n",
    "# @return a ListNode\n",
    "    def addTwoNumbers(self, l1, l2):\n",
    "        carry = 0  #进位\n",
    "        root = a = ListNode(0)\n",
    "        while l1 or l2 or carry:\n",
    "            v1 = v2 = 0\n",
    "            if l1:\n",
    "                v1 = l1.val\n",
    "                l1 = l1.next\n",
    "            if l2:\n",
    "                v2 = l2.val\n",
    "                l2 = l2.next\n",
    "            val = v1 + v2 + carry  #一定要在这里加进位\n",
    "            if val >= 10:\n",
    "                val -= 10\n",
    "                a.next = ListNode(val)\n",
    "                carry = 1\n",
    "            else: \n",
    "                a.next = ListNode(val)\n",
    "                carry = 0\n",
    "            a = a.next\n",
    "        return root.next"
   ]
  },
  {
   "cell_type": "markdown",
   "metadata": {},
   "source": [
    "# 51. N-Queens"
   ]
  },
  {
   "cell_type": "code",
   "execution_count": null,
   "metadata": {},
   "outputs": [],
   "source": [
    "class Solution:\n",
    "    def solveNQueens(self, n):\n",
    "        \n",
    "        def DFS(queen, dif, addition): #queen存储的是一连串的行坐标，queen里的下标就代表着列坐标，所以它其实可以看作二维的行列坐标；\n",
    "            p = len(queen) #p代表列数\n",
    "            if p == n:\n",
    "                res.append(queen)\n",
    "                return\n",
    "            for q in range(n):  #q代表queen应放入的行坐标\n",
    "                if q not in queen and p+q not in addition and p - q not in dif:  # 三个条件：不能同行同列；不能在正对角线 或 斜对角线；\n",
    "                    DFS(queen+[q], dif+[p-q], addition+[p+q])\n",
    "        \n",
    "        res = []  #全局变量res（还有n）\n",
    "        DFS([], [], [])\n",
    "        return [['.' * i + 'Q' + '.'*(n-i-1) for i in item] for item in res]  # 最后需要print出来lay out，利用了for语句的特点\n",
    "    \n",
    "# 这是经典的DFS解法"
   ]
  },
  {
   "cell_type": "markdown",
   "metadata": {},
   "source": [
    "# 28. Implement strStr()"
   ]
  },
  {
   "cell_type": "code",
   "execution_count": 1,
   "metadata": {},
   "outputs": [],
   "source": [
    "class Solution:\n",
    "    def strStr(self, haystack: 'str', needle: 'str') -> 'int':\n",
    "        if not needle:\n",
    "            return 0\n",
    "        item = needle[0]\n",
    "        length = len(needle)\n",
    "        for i in range(len(haystack)):\n",
    "            if haystack[i] == item:\n",
    "                if haystack[i:i+length] == needle:\n",
    "                    return i\n",
    "        return -1\n",
    "    \n",
    "# easy, nothing special"
   ]
  },
  {
   "cell_type": "markdown",
   "metadata": {},
   "source": [
    "# 101. Symmetric Tree"
   ]
  },
  {
   "cell_type": "code",
   "execution_count": null,
   "metadata": {},
   "outputs": [],
   "source": [
    "class Solution:\n",
    "    def isSymmetric(self, root: 'TreeNode') -> 'bool':\n",
    "        if not root:\n",
    "            return True\n",
    "        return self.helper(root.left, root.right)\n",
    "    \n",
    "    def helper(self, left, right):\n",
    "        if not left and not right:\n",
    "            return True\n",
    "        if left and right and left.val==right.val:\n",
    "            return self.helper(left.left, right.right) and self.helper(left.right,\n",
    "                                                                right.left)\n",
    "        else:\n",
    "            return False\n",
    "        \n",
    "# 递归方法，尽量让递归函数内部的处理简单一些；我最初想的就是在helper内部分别进行左右的两次比对，但是就是很麻烦，现在直接调用两次helper，解决\n",
    "# 这个同时也是广度搜索BFS；"
   ]
  },
  {
   "cell_type": "markdown",
   "metadata": {},
   "source": [
    "# 102. Binary Tree Level Order Traversal"
   ]
  },
  {
   "cell_type": "code",
   "execution_count": null,
   "metadata": {},
   "outputs": [],
   "source": [
    "class Solution:\n",
    "    def levelOrder(self, root):\n",
    "        \n",
    "        if not root:\n",
    "            return []\n",
    "        res, level = [], [root]\n",
    "        while level:\n",
    "            tmp = []\n",
    "            res.append([x.val for x in level])\n",
    "            for i in level:\n",
    "                tmp.extend([i.left, i.right])\n",
    "            level = [item for item in tmp if item]\n",
    "        return res\n",
    "    \n",
    "# BFS，仍是广搜；要想往数组后面加多个元素时，需要用extend；"
   ]
  },
  {
   "cell_type": "markdown",
   "metadata": {},
   "source": [
    "# 剑指offer--矩阵中的路径\n",
    "请设计一个函数，用来判断在一个矩阵中是否存在一条包含某字符串所有字符的路径。路径可以从矩阵中的任意一个格子开始，每一步可以在矩阵中向左，向右，向上，向下移动一个格子。如果一条路径经过了矩阵中的某一个格子，则之后不能再次进入这个格子。 例如 a b c e s f c s a d e e 这样的3 X 4 矩阵中包含一条字符串\"bcced\"的路径，但是矩阵中不包含\"abcb\"路径，因为字符串的第一个字符b占据了矩阵中的第一行第二个格子之后，路径不能再次进入该格子。\n",
    "\n",
    "说的比较绕，其实就是我们在寻找路径时也要遵照这种方法，找过的路就不要再找了；如何界定这条路找过呢？那就是当一个坐标点上有我们想要的当前值时，我们就先**暂时**标记该点，去寻找下一个点，这样保证在找下一个点的时候不走回头路；\n",
    "* 这是一道回溯问题，需要用到stack；但是注意递归时传参数时，不要用pop，具体见下面详解；\n",
    "* 也是一道DFS问题"
   ]
  },
  {
   "cell_type": "code",
   "execution_count": null,
   "metadata": {},
   "outputs": [],
   "source": [
    "\n",
    "# -*- coding:utf-8 -*-\n",
    "class Solution:\n",
    "    def hasPath(self, matrix, rows, cols, path):  #输入matrix是一维的\n",
    "        \n",
    "        arr = [[0 for i in range(cols)] for j in range(rows)]  # 构建二维数组的方法。。\n",
    "        ans = False\n",
    "        stack1 = list(reversed(path))\n",
    "\n",
    "        def helper(r, c, stack):  # 函数写的很好，传参较少，其余的参数都是global的；\n",
    "            if not stack:\n",
    "                return True\n",
    "            if rows > r >= 0 and cols > c >= 0 and arr[r][c] != 1 and matrix[r*cols+c] == stack[-1]:  # 四个条件，matrix是一维的，要转换坐标！\n",
    "                arr[r][c] = 1  # 暂时标记它！！\n",
    "                if helper(r + 1, c, stack[:-1]) or helper(r - 1, c, stack[:-1]) or helper(r, c - 1, stack[:-1]) or helper(r, c + 1, stack[:-1]):\n",
    "                    return True\n",
    "                arr[r][c] = 0  # ！！！重点，因为上述四条路径都失败了，把标记点取消！！\n",
    "            else:\n",
    "                return False\n",
    "\n",
    "        for i in range(rows):  # 这个部分必须写在helper函数下面，否则会报错，因为还没有定义helper函数；\n",
    "            for j in range(cols):\n",
    "                if helper(i, j, stack1):\n",
    "                    return True\n",
    "\n",
    "        return False"
   ]
  },
  {
   "cell_type": "markdown",
   "metadata": {},
   "source": [
    "# 剑指Offer 字符流中第一个不重复的字符"
   ]
  },
  {
   "cell_type": "code",
   "execution_count": null,
   "metadata": {},
   "outputs": [],
   "source": [
    "# -*- coding:utf-8 -*-\n",
    "# 这种方法时间复杂度介于1与n之间，维持一个队列；因为是用list来模拟队列，所以每次都不能pop\n",
    "\n",
    "class Solution:\n",
    "    # 返回对应char\n",
    "    def __init__(self):\n",
    "        self.queue = []\n",
    "        self.str = {}\n",
    "    def FirstAppearingOnce(self):\n",
    "        # write code here\n",
    "        for i in range(len(self.queue)):\n",
    "            if not self.queue[i]:\n",
    "                continue\n",
    "            if self.str[self.queue[i]]:\n",
    "                self.queue[i] = 0  #此处并没有用pop，避免增加复杂度\n",
    "            else: return self.queue[i]\n",
    "        return '#'\n",
    "    def Insert(self, char):\n",
    "        if char not in self.str.keys():\n",
    "            self.queue.append(char)\n",
    "            self.str[char] = 0\n",
    "        else:\n",
    "            self.str[char] += 1\n",
    "            \n",
    "# 第二种方法：每次插入后都会重新计数，时间复杂度为n；\n",
    "class Solution:\n",
    " \n",
    "    def __init__(self):\n",
    "        self.s=\"\"  #此处换成list也是可以的；\n",
    "    def FirstAppearingOnce(self):\n",
    " \n",
    "        res=filter(lambda c:self.s.count(c)==1,self.s)  #filter与lambda结合；\n",
    "        return res[0] if res else \"#\"\n",
    " \n",
    "    def Insert(self, char):\n",
    " \n",
    "        self.s+=char"
   ]
  },
  {
   "cell_type": "markdown",
   "metadata": {},
   "source": [
    "# 递归的解题步骤："
   ]
  },
  {
   "cell_type": "markdown",
   "metadata": {},
   "source": [
    "## terminator\n",
    "## process\n",
    "## drill down 扩散\n",
    "## clear states"
   ]
  },
  {
   "cell_type": "markdown",
   "metadata": {},
   "source": [
    "# 120. Triangle"
   ]
  },
  {
   "cell_type": "code",
   "execution_count": null,
   "metadata": {},
   "outputs": [],
   "source": [
    "# 递归解法：\n",
    "\n",
    "class Solution:\n",
    "    def minimumTotal(self, triangle: 'List[List[int]]') -> 'int':\n",
    "        self.cache = dict()  # 构建字典，把之前计算过的存起来；\n",
    "        def recursion(i, j):\n",
    "            if (i, j) in self.cache:\n",
    "                return self.cache[(i, j)]\n",
    "            if i == len(triangle) - 1:  # termination condition\n",
    "                return triangle[i][j]\n",
    "            \n",
    "            res = triangle[i][j] + min(recursion(i+1, j), recursion(i+1, j+1))\n",
    "            self.cache[(i, j)] = res\n",
    "            return res\n",
    "            \n",
    "        return recursion(0, 0)\n",
    "\n",
    "# DP解法：bottom-up，从下往上遍历；\n",
    "class Solution:\n",
    "    def minimumTotal(self, triangle: 'List[List[int]]') -> 'int':\n",
    "        for i in range(len(triangle) - 2, -1, -1):\n",
    "            for j in range(len(triangle[i]) - 1, -1, -1):\n",
    "                small = min(triangle[i+1][j], triangle[i+1][j+1])  # 它和下面一行即为DP的状态转移方程\n",
    "                triangle[i][j] += small\n",
    "        return triangle[0][0]"
   ]
  },
  {
   "cell_type": "markdown",
   "metadata": {},
   "source": [
    "# 最长公共子序列--牛客网"
   ]
  },
  {
   "cell_type": "code",
   "execution_count": null,
   "metadata": {},
   "outputs": [],
   "source": [
    "# 利用递归，实现DP\n",
    "class LCS:\n",
    "    def findLCS(self, A, n, B, m):\n",
    "        res_dict = {}\n",
    "        def dp(i, j):\n",
    "            if i == -1 or j == -1:\n",
    "                return 0  #termination\n",
    "            \n",
    "            if (i, j) in res_dict:\n",
    "                return res_dict[(i, j)]\n",
    "            else:  #下面都是drill down过程\n",
    "                if A[i] == B[j]:\n",
    "                    res_dict[(i, j)] = 1 + dp(i-1, j-1)\n",
    "                else:\n",
    "                    res_dict[(i, j)] = max(dp(i, j-1), dp(i-1, j))\n",
    "                    \n",
    "            return res_dict[(i, j)]\n",
    "        \n",
    "        dp(n-1, m-1)\n",
    "        return res_dict[(n-1, m-1)]"
   ]
  },
  {
   "cell_type": "code",
   "execution_count": null,
   "metadata": {},
   "outputs": [],
   "source": [
    "# 直接实现DP，比上面方法快！时间复杂度为 Omn\n",
    "class LCS:\n",
    "    def findLCS(self, A, n, B, m):  n与m分别为list A B的长度；\n",
    "        if not n or not m:\n",
    "            return 0\n",
    "        res_dict = [[0 for i in range(m+1)] for j in range(n+1)]  #注意此处，多加一行一列；\n",
    "        for i in range(1, n+1):\n",
    "            for j in range(1, m+1):\n",
    "                if A[i-1] == B[j-1]:\n",
    "                    res_dict[i][j] = 1 + res_dict[i-1][j-1]  #状态转移方程\n",
    "                else:\n",
    "                    res_dict[i][j] = max(res_dict[i-1][j], res_dict[i][j-1])\n",
    "        return res_dict[-1][-1]  #返回最后一个值"
   ]
  },
  {
   "cell_type": "markdown",
   "metadata": {},
   "source": [
    "# 44. Wildcard Matching"
   ]
  },
  {
   "cell_type": "code",
   "execution_count": null,
   "metadata": {},
   "outputs": [],
   "source": [
    "# 双指针解法：最优复杂度为O(len(s)+len(p)),最差情况是O（SP）\n",
    "class Solution:\n",
    "    def isMatch(self, s: str, p: str) -> bool:\n",
    "        i = j = k = 0  # k用来标记是否有*\n",
    "        res = (-1, -1)  #只需要记录最后一个*出现的位置即可\n",
    "        while i < len(s):  # 只需要这一个判断条件 无需j的约束；这样可以保证while语句出来后s一定被遍历完了；\n",
    "            if j < len(p) and p[j] in ['?', s[i]]:  # 直接match的情况，无须多言；\n",
    "                i+=1; j+=1\n",
    "            elif j < len(p) and p[j] == '*':  # 没match但是含有*\n",
    "                    res = (i, j)  #记录当前位置\n",
    "                    j += 1  # 表示*匹配了一个空字符，直接跳过该*\n",
    "                    k = 1\n",
    "            elif k:  # 如果p中有* 且字符串匹配失败，则回溯；\n",
    "                (i, j) = res\n",
    "                res=(i+1, j)  # 表示*匹配了一个字符\n",
    "                i += 1; j += 1 \n",
    "            else:\n",
    "                return False\n",
    "        while j < len(p) and p[j] == '*':  # 这个while是防止'ab' 与 'ab****'的情况，剔除后面的*\n",
    "            j += 1\n",
    "        return j == len(p)"
   ]
  },
  {
   "cell_type": "markdown",
   "metadata": {},
   "source": [
    "# 72. Edit Distance"
   ]
  },
  {
   "cell_type": "code",
   "execution_count": null,
   "metadata": {},
   "outputs": [],
   "source": [
    "# bottom-up dp solution:\n",
    "# memo[i][j]表示word[i:]与word[j:]匹配需要的最短距离，包括i与j；\n",
    "class Solution:\n",
    "    def minDistance(self, word1: str, word2: str) -> int:\n",
    "        len1 = len(word1)\n",
    "        len2 = len(word2)\n",
    "        memo = [[0] * (len2+1) for _ in range(1+len1)]\n",
    "        for n in range(len1+1):  #以下两个for语句，填充memo的边缘\n",
    "            memo[n][-1] = len1-n\n",
    "        for m in range(len2+1):\n",
    "            memo[-1][m] = len2-m\n",
    "        for i in range(len1-1, -1, -1):\n",
    "            for j in range(len2-1, -1, -1):\n",
    "                if word1[i] == word2[j]:\n",
    "                    memo[i][j] = memo[i+1][j+1]\n",
    "                else:\n",
    "                    memo[i][j] = 1 + min(memo[i+1][j], memo[i+1][j+1], memo[i][j+1])\n",
    "        return memo[0][0]\n",
    "\n",
    "# top-down dp solution:\n",
    "#同往常一样，recursion with caching；\n",
    "class Solution:\n",
    "    def minDistance(self, word1: str, word2: str) -> int:\n",
    "        memo = [[False for i in range(len(word2))] for j in range(len(word1))]\n",
    "        def dp(i, j):\n",
    "            if i == len(word1) and j == len(word2):\n",
    "                return 0\n",
    "            elif i == len(word1):\n",
    "                return len(word2) - j\n",
    "            elif j == len(word2):\n",
    "                return len(word1) - i\n",
    "            else:\n",
    "                if memo[i][j]:\n",
    "                    return memo[i][j]\n",
    "                elif word1[i] == word2[j]:\n",
    "                    return dp(i+1, j+1)\n",
    "                else:\n",
    "                    insert = 1 + dp(i, j+1)  # 三个操作，很巧妙！！\n",
    "                    deletion = 1 + dp(i+1, j)\n",
    "                    replace = 1 + dp(i+1, j+1)\n",
    "                    memo[i][j] = min(insert, deletion, replace)\n",
    "            return memo[i][j]\n",
    "        return dp(0,0)\n"
   ]
  },
  {
   "cell_type": "markdown",
   "metadata": {},
   "source": [
    "# 394. Decode String"
   ]
  },
  {
   "cell_type": "code",
   "execution_count": null,
   "metadata": {},
   "outputs": [],
   "source": [
    "# 利用stack\n",
    "class Solution:\n",
    "    def decodeString(self, s: str) -> str:\n",
    "        stack, index = '', []  #index负责记录 [ 在stack中的位置；\n",
    "        num = 0  # num存入nums中，每遇见[后就会清零；\n",
    "        nums = []\n",
    "        res = {}  #res中存储每次临时产生的字符串结果；\n",
    "        for i in range(len(s)):\n",
    "            if s[i] == '[':\n",
    "                stack += s[i]\n",
    "                index.append(len(stack)-1)\n",
    "                nums.append(num)\n",
    "                num = 0\n",
    "            elif s[i] == ']':\n",
    "                res[i] = nums[-1] * stack[index[-1]+1:]\n",
    "                stack = stack[:index[-1]]+res[i]\n",
    "                index.pop()\n",
    "                nums.pop()\n",
    "            elif s[i].isdigit():\n",
    "                num = 10*num + int(s[i])\n",
    "            else:\n",
    "                stack += s[i]\n",
    "        return stack\n",
    "    \n",
    "# 方法和上述几乎一样，但是少了一些参数：\n",
    "# num中记录的是遇见【 前的数字；这两个一起放进stack中，此时stack里面存的东西是完整的，成形的；\n",
    "\n",
    "    def decodeString(self, s: str) -> str:\n",
    "        stack, num, cur_str = [], 0, ''\n",
    "        for i in range(len(s)):\n",
    "            if s[i].isdigit():\n",
    "                num = 10 * num + int(s[i])\n",
    "            elif s[i] == '[':\n",
    "                stack.append(cur_str)\n",
    "                stack.append(num)\n",
    "                num, cur_str = 0, ''\n",
    "            elif s[i] == ']':\n",
    "                cur_num = stack.pop()\n",
    "                pre_str = stack.pop()\n",
    "                cur_str = pre_str + cur_str * cur_num  # 上一个字符串加上新的字符串；\n",
    "            else:\n",
    "                cur_str += s[i]  # cur_str不断将每个【】中的字符串添加进来；\n",
    "        return cur_str"
   ]
  }
 ],
 "metadata": {
  "kernelspec": {
   "display_name": "Python 3",
   "language": "python",
   "name": "python3"
  },
  "language_info": {
   "codemirror_mode": {
    "name": "ipython",
    "version": 3
   },
   "file_extension": ".py",
   "mimetype": "text/x-python",
   "name": "python",
   "nbconvert_exporter": "python",
   "pygments_lexer": "ipython3",
   "version": "3.7.0"
  }
 },
 "nbformat": 4,
 "nbformat_minor": 2
}
