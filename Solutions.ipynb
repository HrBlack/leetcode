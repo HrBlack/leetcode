{
 "cells": [
  {
   "cell_type": "markdown",
   "metadata": {},
   "source": [
    "# 1. Two Sum"
   ]
  },
  {
   "cell_type": "code",
   "execution_count": null,
   "metadata": {},
   "outputs": [],
   "source": [
    "该题解法很多，但是这个是O（n）的解法；如果用for loop是n的平方复杂度。\n",
    "class Solution:\n",
    "    def twoSum(self, nums, target):\n",
    "        \"\"\"\n",
    "        :type nums: List[int]\n",
    "        :type target: int\n",
    "        :rtype: List[int]\n",
    "        \"\"\"\n",
    "        buff_dict = {}\n",
    "        for i,value in enumerate(nums):\n",
    "            if value in buff_dict.keys():\n",
    "                return [buff_dict[value], i]\n",
    "            else:\n",
    "                buff_dict[target-value] = i"
   ]
  },
  {
   "cell_type": "markdown",
   "metadata": {},
   "source": [
    "# ZigZag Conversion"
   ]
  },
  {
   "cell_type": "code",
   "execution_count": 7,
   "metadata": {},
   "outputs": [],
   "source": [
    "class Solution:\n",
    "    def convert(self, s, numRows):\n",
    "        \"\"\"\n",
    "        :type s: str\n",
    "        :type numRows: int\n",
    "        :rtype: str\n",
    "        \"\"\"\n",
    "        if numRows == 1 or len(s)<=numRows:\n",
    "            return s\n",
    "        L = ['']*numRows #这个地方需要注意一下，【】里面需要加上‘’，这样它才不是空集，里面是有一个元素‘’的，这样接下来的L[i]才是有意义的。\n",
    "        i, step = 0, 1\n",
    "        for x in s:\n",
    "            if i == 0:\n",
    "                step = 1\n",
    "            elif i == numRows-1:\n",
    "                step = -1\n",
    "            L[i] += x\n",
    "            i += step\n",
    "        return ''.join(L)"
   ]
  },
  {
   "cell_type": "markdown",
   "metadata": {},
   "source": [
    "z形排列，其实也就是龙摆尾。这个解巧妙的地方在于，它利用i和step这两个类似于指针的参量，控制着x插入指定的L的行。\n",
    "最后的join函数也很有意思，它是可以将L函数里的内容以‘’连接起来，实现了无缝连接。"
   ]
  },
  {
   "cell_type": "markdown",
   "metadata": {},
   "source": [
    "# Reverse Integer"
   ]
  },
  {
   "cell_type": "code",
   "execution_count": 15,
   "metadata": {},
   "outputs": [
    {
     "name": "stdout",
     "output_type": "stream",
     "text": [
      "452\n"
     ]
    }
   ],
   "source": [
    "import operator\n",
    "class Solution:\n",
    "    def reverse(self, x):\n",
    "        \"\"\"\n",
    "        :type x: int\n",
    "        :rtype: int\n",
    "        \"\"\"\n",
    "        s = int(operator.gt(x, 0))\n",
    "        a = int(str(abs(x))[::-1])\n",
    "        if s == 0:\n",
    "            return(-a)*(a<2**31)\n",
    "        return a*(a<2**31)"
   ]
  },
  {
   "cell_type": "markdown",
   "metadata": {},
   "source": [
    "cmp函数已经不能在python3中使用了，所以此处要import operator，gt是greater than，ge是greater or equal，同样还有lt，le。\n",
    "要注意：x是一个数值，并不是list，所以要先转为str，然后利用[::-1]来表示倒序。（[i:j:-1])\n",
    "最后return语句中的2** 31 是指不能超过32bit的最大数值范围（第一位是sign，剩下31位）"
   ]
  },
  {
   "cell_type": "markdown",
   "metadata": {},
   "source": [
    "# String to Integer (atoi)"
   ]
  },
  {
   "cell_type": "code",
   "execution_count": null,
   "metadata": {},
   "outputs": [],
   "source": [
    "class Solution:\n",
    "    def myAtoi(self, str):\n",
    "        \"\"\"\n",
    "        :type str: str\n",
    "        :rtype: int\n",
    "        \"\"\"\n",
    "        a = []\n",
    "        flag = 0\n",
    "        str = str.strip(' ')\n",
    "        for s in str:\n",
    "            if (s =='-' or s == '+') and (flag == 0):\n",
    "                a.append(s)\n",
    "                flag += 1\n",
    "            elif s <= '9' and s >= '0':\n",
    "                a.append(s)\n",
    "                flag +=1\n",
    "            else:   \n",
    "                break\n",
    "        str = ''.join(a)\n",
    "        if str == \"\":\n",
    "            return 0\n",
    "        if str[0] != '-' and str[0] != '+':\n",
    "            return int(str) if int(str)<2147483648 else 2147483647\n",
    "        elif str[0] == '+' and len(str)>1:\n",
    "            return +int(str[1:]) if int(str[1:])<2147483648 else 2147483647\n",
    "        elif str[0] == '-' and len(str)>1:\n",
    "            return -int(str[1:]) if int(str[1:])<2147483648 else -2147483648\n",
    "        else: return 0"
   ]
  },
  {
   "cell_type": "markdown",
   "metadata": {},
   "source": [
    "这种问题其实并不难，主要是要考察你对于边界问题的理解，考虑得是否周到。所以以后拿到题以后要动笔把所有情况列出来，逐一排除即可。\n",
    "strip函数：去除字符串中前部和尾部特定的字符，默认是空格与换行（不能去除内部）\n",
    "join函数：再次使用了join，把list中的元素连接到一起，返回的是字符串！"
   ]
  },
  {
   "cell_type": "markdown",
   "metadata": {},
   "source": [
    "# Palindrome Number"
   ]
  },
  {
   "cell_type": "code",
   "execution_count": 1,
   "metadata": {},
   "outputs": [],
   "source": [
    "class Solution:\n",
    "    def isPalindrome(self, x):\n",
    "        \"\"\"\n",
    "        :type x: int\n",
    "        :rtype: bool\n",
    "        \"\"\"\n",
    "        x = str(x)\n",
    "        i = 0\n",
    "        n = len(x)\n",
    "        if x[i] == '-' or x[i] == '+':\n",
    "            return False\n",
    "        while i < 0.5*n:\n",
    "            if x[i] == x[n-i-1]:\n",
    "                i += 1\n",
    "                continue\n",
    "            else: return False\n",
    "        return True"
   ]
  },
  {
   "cell_type": "markdown",
   "metadata": {},
   "source": [
    "关键是要把odd与even两种情况合并到一起，另外注意or语句连接的是两个独立的句子，这个需要注意一下。\n",
    "不能把int直接转成list，转成str也可以。"
   ]
  },
  {
   "cell_type": "markdown",
   "metadata": {},
   "source": [
    "# Letter Combinations of a Phone Number"
   ]
  },
  {
   "cell_type": "markdown",
   "metadata": {},
   "source": [
    "## solution 1(dfs)"
   ]
  },
  {
   "cell_type": "code",
   "execution_count": 1,
   "metadata": {},
   "outputs": [],
   "source": [
    "    def letterCombinations(self, digits):\n",
    "        \"\"\"\n",
    "        :type digits: str\n",
    "        :rtype: List[str]\n",
    "        \"\"\"\n",
    "        dic = {'2': 'abc', '3': 'def', '4': 'ghi', '5': 'jkl', '6': 'mno',\n",
    "              '7': 'pqrs', '8': 'tuv', '9': 'wxyz'}\n",
    "        if len(digits) == 0:\n",
    "            return []\n",
    "        l1, l2 = [''], []\n",
    "        for digit in digits:\n",
    "            for letter in dic[digit]:\n",
    "                for i in l1:\n",
    "                    l2.append(i + letter)\n",
    "            l1 = l2.copy()\n",
    "            l2 = []\n",
    "        return l1\n"
   ]
  },
  {
   "cell_type": "markdown",
   "metadata": {},
   "source": [
    "拿到题直接把字典写出来，不要浪费太多时间在想如何分片上\n",
    "深搜其实就是稳扎稳打，一个一个for循环去写\n",
    "这里要写两个list，储存刚刚连接好的str，注意：l1里面的‘’不能省略，否则最后一个for循环就不会执行\n",
    "copy（）的用法再次加深印象，这叫浅复制，只复制数值。（一般都用这个）"
   ]
  },
  {
   "cell_type": "markdown",
   "metadata": {},
   "source": [
    "## solution 2(recursive）"
   ]
  },
  {
   "cell_type": "markdown",
   "metadata": {},
   "source": [
    "# Median of Two Sorted Arrays"
   ]
  },
  {
   "cell_type": "code",
   "execution_count": null,
   "metadata": {},
   "outputs": [],
   "source": [
    "class Solution:\n",
    "    def findMedianSortedArrays(self, nums1, nums2):\n",
    "        \"\"\"\n",
    "        :type nums1: List[int]\n",
    "        :type nums2: List[int]\n",
    "        :rtype: float\n",
    "        \"\"\"\n",
    "        m, n = len(nums1), len(nums2)\n",
    "        if n < m:\n",
    "            m, n, nums1, nums2 = n, m, nums2, nums1\n",
    "        mleft, mright = 1, m\n",
    "        half = (m+n+1)//2  #加1是有原因的！\n",
    "        while 1:\n",
    "            i = (mleft + mright)//2\n",
    "            j = half - i\n",
    "            if i<m and nums2[j-1] > nums1[i]:\n",
    "                mleft = i+1\n",
    "            elif i>0 and nums1[i-1] > nums2[j]:\n",
    "                mright = i-1\n",
    "            else: \n",
    "                if i == 0:\n",
    "                    max_left = nums2[j-1]\n",
    "                elif j == 0:\n",
    "                    max_left = nums1[i-1]\n",
    "                else: max_left = max(nums1[i-1], nums2[j-1])\n",
    "                if (m+n)%2 == 1:\n",
    "                    return max_left\n",
    "                if j == n:\n",
    "                    min_right = nums1[i]\n",
    "                elif i == m:\n",
    "                    min_right = nums2[j]\n",
    "                else: min_right = min(nums1[i], nums2[j])\n",
    "                return 0.5*(min_right + max_left)"
   ]
  },
  {
   "cell_type": "markdown",
   "metadata": {},
   "source": [
    "此题是hard难度，能够明显感觉到边界条件显著增加：\n",
    "* 首先考虑当nums1为【】的情况（i = 0）\n",
    "* 其次是当1和2两个集合如果长度相同的情况（n=m）\n",
    "* 第三是当i等于0或者m的情况\n",
    "思路是这样：先把i和j分别等于0的情况写出来，因为他们两个是同一类的，都是max_left比较特殊，最后写一般情况下的maxleft。\n",
    "接下来如果m+n为odd的话，那么odd就只和maxleft有关，因为i+j= (m+n+1)//2，注意有➕1 ！！这样当m+n为奇数时，由分割线隔开的左右两个部分就会差一个数字（左边比右边多一个数字）。\n",
    "然后再综合考虑m+n为even的情况：min_right也有两种特殊情况，就是j=n和i=m。\n",
    "本题巧妙的地方在于：一个是把最后求解的部分按照求左右边界分成了两大类，每一类中又分为三种情况，条理清晰；此外对于i和j的构造也很好，i和j同m和n一样，都是表示第几个数的意思，在【】里面的需要➖1，就不会造成混淆；还有就是我们只移动i，j写成i的函数，也同样很清晰。"
   ]
  },
  {
   "cell_type": "markdown",
   "metadata": {},
   "source": [
    "# Longest Valid Parentheses"
   ]
  },
  {
   "cell_type": "code",
   "execution_count": 4,
   "metadata": {},
   "outputs": [],
   "source": [
    "class Solution:\n",
    "    def longestValidParentheses(self, s):\n",
    "        \"\"\"\n",
    "        :type s: str\n",
    "        :rtype: int\n",
    "        \"\"\"\n",
    "        # counting = 0\n",
    "        if len(s) < 2:\n",
    "            return 0\n",
    "        counting = [-1] * len(s)  # put the length corresponding to each element into this list. you can't set counting like ['']*xxx, because it can't convert str into int.\n",
    "        a = []\n",
    "        def dp(s, i):\n",
    "            if counting[i] != -1: # if the value is not -1, then we know that it has been computed before.\n",
    "                return counting[i]\n",
    "            if i < 1: # i = len(s)-1, i<1 means length < 2, then it's impossible to have a pair in it.\n",
    "                counting[i] = 0\n",
    "            else:\n",
    "                if s[i] == '(':\n",
    "                    counting[i] = 0\n",
    "                elif i > 1 and s[i - 1] == '(':\n",
    "                    counting[i] = dp(s[:i - 1], i-2) + 2\n",
    "                elif i == 1 and s[i - 1] == '(':\n",
    "                    counting[i] = 2\n",
    "                else:\n",
    "                    length = dp(s[:i], i-1)\n",
    "                    if i-length-1 > 0 and s[i - length - 1] == '(':\n",
    "                        counting[i] = dp(s[:i], i-1) + 2 + dp(s[:(i - length - 1)], i-length-2)\n",
    "                    elif s[i - length - 1] == '(':\n",
    "                        counting[i] = dp(s[:i],i-1) + 2\n",
    "                    else:\n",
    "                        counting[i] = 0\n",
    "            return counting[i]\n",
    "        for j in range(1, len(s)+1):\n",
    "            a.append(dp(s[:j], j-1))\n",
    "        return max(a)"
   ]
  },
  {
   "cell_type": "markdown",
   "metadata": {},
   "source": [
    "* Top-Down 的DP方法\n",
    "* 和递归很像，只不过把之前算过的数值存起来了\n",
    "* dp函数里：i是index，代表以s【i】结尾，看以它结尾的最大length是什么，存进counting中去，因为是从头向后一个个算的，所以算后面的length时就\n",
    "直接用前面的了。\n",
    "* 分几种情况：1，如果i对应的str是（，那么它不可能是某pair/某些pairs的结尾，返回0\n",
    "* 2， 如果结尾时），那么又要分三种情况：1，倒数第二个是（，那么这两个可以组成一个pair，指针往前移动两个并且length要加2，还有因为移动了两个，就要注意index out of range的问题；2，如果倒数第二个还是 ），那么就要看这个倒数第二个）有没有与之配对的，我们假设有和它配对的，它的配对长度是\n",
    "dp（s【：i】， i-1）（如果没配对的话该长度为0），这样就能求出和i配对的（的位置，如果该位置上出现的确实是（，则成功配对，counting中要加上2，加上配对成功的这一对（）内部的配对length，加上在（ 前面的配对长度（这样就能连接起来）。注意这里又有指针移动问题，\n",
    "*切记，只要指针移动了就一定要考虑边界条件。*\n",
    "*  3，最后一种情况是未能成功配对，直接返回0."
   ]
  },
  {
   "cell_type": "markdown",
   "metadata": {},
   "source": [
    "# Regular Expression Matching"
   ]
  },
  {
   "cell_type": "code",
   "execution_count": 5,
   "metadata": {},
   "outputs": [],
   "source": [
    "class Solution(object):\n",
    "    def isMatch(self, text, pattern):\n",
    "        memo = {}\n",
    "        def dp(i, j):\n",
    "            if (i, j) not in memo: # memo is a storage dict\n",
    "                if j == len(pattern): # boundary, when pattern[j] is empty, text[i] must be empty too; otherwise Fase 用这行来限制j\n",
    "                    ans = i == len(text) # this expression is very efficient and simple!!\n",
    "                else:\n",
    "                    first_match = i < len(text) and pattern[j] in {text[i], '.'} #用这行来限制i\n",
    "                    if j+1 < len(pattern) and pattern[j+1] == '*': # another boundary, prevent index in pattern to go beyond.\n",
    "                        ans = dp(i, j+2) or first_match and dp(i+1, j) # two ways, connected with 'or', (and is prior to or), \n",
    "                    else:                                                           # one way is to give up the first two characters 'x*', and compare from the third charac..\n",
    "                        ans = first_match and dp(i+1, j+1)               # another way is to continue compare with text using the whole pattern(repetition: aaabc)\n",
    "                memo[i, j] = ans                                               # 但是首先要求firts match是true的，也就是说boundary满足，并且第一项匹配。\n",
    "            return memo[i, j]                                                  #如果上面的都没有满足，则直接进行match，firstmatch在此处发挥重要作用，如果不成功的话它直接为FalseFase\n",
    "\n",
    "        return dp(0, 0)"
   ]
  },
  {
   "cell_type": "markdown",
   "metadata": {},
   "source": [
    "top-down dp问题\n",
    "* 该题对于 == 的运用特别巧妙，好好看看\n",
    "* 先按照pattern中第二个str是不是*来看，如果是的话xxxx，不是的话xxxx。\n",
    "其中 是 的情况下有两种方式可以走，只要有一条路走得通就行，所以用or。\n",
    "* 如果第二个str不是*的话，那就只能直接匹配，因为有index的移动，所以加上边界： i< len(text)"
   ]
  },
  {
   "cell_type": "markdown",
   "metadata": {},
   "source": [
    "# Longest Valid Parentheses (solution 2 using stack)"
   ]
  },
  {
   "cell_type": "code",
   "execution_count": 1,
   "metadata": {},
   "outputs": [],
   "source": [
    "class Solution:\n",
    "    def longestValidParentheses(self, s):\n",
    "        \"\"\"\n",
    "        :type s: str\n",
    "        :rtype: int\n",
    "        \"\"\"\n",
    "        # counting = 0\n",
    "        index = []\n",
    "        res = 0\n",
    "        left = -1\n",
    "        if len(s) < 2:\n",
    "            return 0\n",
    "        for i in range(len(s)):\n",
    "            if s[i] == '(':\n",
    "                index.append(i)\n",
    "            else:\n",
    "                if not index:\n",
    "                    left = i\n",
    "                else:\n",
    "                    index.pop()\n",
    "                    if not index:\n",
    "                        res = max(res, i-left)\n",
    "                    else:\n",
    "                        res = max(res, i-index[-1])\n",
    "        return res"
   ]
  },
  {
   "cell_type": "markdown",
   "metadata": {},
   "source": [
    "* The code is very simple when we are using stack.\n",
    "* In python, list has characteristics of stack, last in first out, which means that we only manipulate elements at the end of list.\n",
    "* 有点像消消乐。。\n",
    "* 注意的是：left在里面的用法。left也是用来当作index的。"
   ]
  },
  {
   "cell_type": "markdown",
   "metadata": {},
   "source": [
    "# 94. Binary Tree Inorder Traversal"
   ]
  },
  {
   "cell_type": "code",
   "execution_count": 2,
   "metadata": {},
   "outputs": [],
   "source": [
    "方法一：Recursion\n",
    "class Solution:\n",
    "    \n",
    "    def inorderTraversal(self, root):\n",
    "        \n",
    "        def helper(root, res):\n",
    "            if root == None:\n",
    "                return []\n",
    "            helper(root.left, res)\n",
    "            res.append(root.val)\n",
    "            helper(root.right, res)\n",
    "            return res\n",
    "        \n",
    "        return helper(root, [])\n",
    "    \n",
    "class Solution:  #少一个传参res\n",
    "    def __init__(self):\n",
    "        self.res = []\n",
    "    def inorderTraversal(self, root):\n",
    "        \"\"\"\n",
    "        :type root: TreeNode\n",
    "        :rtype: List[int]\n",
    "        \"\"\"\n",
    "        if not root:\n",
    "            return []  #两个作用，第一防止初始root就是[]；第二防止后面递归过程中为空，此时其实只要return就行了，返回值是没用的；\n",
    "        self.inorderTraversal(root.left)\n",
    "        self.res.append(root.val)\n",
    "        self.inorderTraversal(root.right)\n",
    "        return self.res"
   ]
  },
  {
   "cell_type": "markdown",
   "metadata": {},
   "source": [
    "* We can build a function inside the function, and call it every time, and we can add another variable for this function."
   ]
  },
  {
   "cell_type": "code",
   "execution_count": null,
   "metadata": {},
   "outputs": [],
   "source": [
    "方法二：Iteration\n",
    "class Solution:\n",
    "    \n",
    "    def inorderTraversal(self, root):\n",
    "        res, stack = [], []  #此处不能用连等于，否则res和stack指向的是同一地址空间，一个修改另外一个也跟着改。\n",
    "        while root or stack:\n",
    "            if root:\n",
    "                stack.append(root) # stack is storing subtrees, not just nodes.\n",
    "                root = root.left\n",
    "            else:\n",
    "                node = stack.pop()\n",
    "                res.append(node.val) \n",
    "                root = node.right\n",
    "        return res"
   ]
  },
  {
   "cell_type": "markdown",
   "metadata": {},
   "source": [
    "# 96. Unique Binary Search Trees"
   ]
  },
  {
   "cell_type": "code",
   "execution_count": null,
   "metadata": {},
   "outputs": [],
   "source": [
    "## DP解法：自下而上地求解\n",
    "def numTrees(self, n):\n",
    "    G = [0] * (n+1)   #巧妙的将我们要求的数值都存在list里，这种情况并不需要字典了，因为子树的node数和index刚好对应。\n",
    "    G[0], G[1] = 1, 1\n",
    "    for i in range(2, n+1):\n",
    "        for j in range(i):\n",
    "            G[i] += G[j] * G[i-j-1]\n",
    "    return G[n]\n",
    "\n",
    "## Recursion解法：自上而下地求解\n",
    "def __init__(self):\n",
    "    self.dict = {0: 1, 1: 1, 2: 2, 3: 5}\n",
    "    self.res = 0\n",
    "def numTrees(self, n):\n",
    "    for a in range(n):\n",
    "        b = n-a-1\n",
    "        if a in self.dict:\n",
    "            a_val = self.dict[a]            \n",
    "        else:\n",
    "            a_val = self.numTrees(a)\n",
    "            self.dict[a] = a_val\n",
    "        if b in self.dict:\n",
    "            b_val = self.dict[b]\n",
    "            self.res += a_val * b_val\n",
    "        else:\n",
    "            b_val = self.numTrees(b)\n",
    "            self.dict[b] = b_val\n",
    "    return self.res\n",
    "\n",
    "#两者都是把复杂问题拆分成子问题，但是dp是自下而上进行求解，这样就可以把子问题的解求出来并储存。不需要进行重复计算。\n",
    "#而递归方法是从顶层逐步迭代到底层，中间由于堆栈存储了大量临时数据，当内存不够时便会出现栈溢出的现象。\n",
    "#DP就是记忆化的递归方法。"
   ]
  },
  {
   "cell_type": "markdown",
   "metadata": {},
   "source": [
    "# 104. Maximum Depth of Binary Tree"
   ]
  },
  {
   "cell_type": "code",
   "execution_count": 2,
   "metadata": {},
   "outputs": [
    {
     "ename": "SyntaxError",
     "evalue": "invalid character in identifier (<ipython-input-2-867cee494dc6>, line 1)",
     "output_type": "error",
     "traceback": [
      "\u001b[0;36m  File \u001b[0;32m\"<ipython-input-2-867cee494dc6>\"\u001b[0;36m, line \u001b[0;32m1\u001b[0m\n\u001b[0;31m    dp解法，利用stack存储信息：\u001b[0m\n\u001b[0m                    ^\u001b[0m\n\u001b[0;31mSyntaxError\u001b[0m\u001b[0;31m:\u001b[0m invalid character in identifier\n"
     ]
    }
   ],
   "source": [
    "dp解法，利用stack存储信息：\n",
    "    def maxDepth(self, root):\n",
    "        maxdepth = 1\n",
    "        d = []\n",
    "        d.append((root,maxdepth))\n",
    "        hyperdepth = 0\n",
    "        while d:\n",
    "            node,maxdepth = d.pop()\n",
    "            if node:\n",
    "                hyperdepth = max(hyperdepth,maxdepth)\n",
    "                if node.left:\n",
    "                    d.append((node.left,maxdepth+1))\n",
    "\n",
    "                if node.right:\n",
    "                    d.append((node.right,maxdepth+1))\n",
    "        return hyperdepth\n",
    "    \n",
    "递归解法：\n",
    "    def maxDepth(self, root):\n",
    "        \"\"\"\n",
    "        :type root: TreeNode\n",
    "        :rtype: int\n",
    "        \"\"\"\n",
    "        def recursion(root):\n",
    "            if root:\n",
    "                return 1 + max(recursion(root.left), recursion(root.right))\n",
    "            else:\n",
    "                return 0\n",
    "        return recursion(root)\n",
    "        "
   ]
  },
  {
   "cell_type": "markdown",
   "metadata": {},
   "source": [
    "# 105. Construct Binary Tree from Preorder and Inorder Traversal"
   ]
  },
  {
   "cell_type": "code",
   "execution_count": null,
   "metadata": {},
   "outputs": [],
   "source": [
    "两种递归方法：\n",
    "class Solution:  #第一种是每次都要用index方法查询元素在list中的位置；\n",
    "    def buildTree(self, preorder, inorder):\n",
    "        if not inorder:\n",
    "            return None\n",
    "        if len(inorder) == 1:\n",
    "            return TreeNode(inorder[0])\n",
    "        node = preorder[0]\n",
    "        root = TreeNode(node)\n",
    "        i = inorder.index(node)\n",
    "        root.left = self.buildTree(preorder[1:i+1], inorder[0:i])  #注意！！调用自身，也需要写self\n",
    "        root.right = self.buildTree(preorder[i+1:], inorder[i+1:])\n",
    "        return root\n",
    "\n",
    "\n",
    "class Solution:  #第二种方法是将list中的位置存在了字典里，然后再从内部调用helper函数\n",
    "    def buildTree(self, preorder, inorder): #  preorder，inorder相当于全局变量，helper可以直接用\n",
    "        if not preorder:\n",
    "            return None\n",
    "        index_list = {}\n",
    "        for i, item in enumerate(inorder):\n",
    "            index_list[item] = i\n",
    "\n",
    "            def helper(start, end):\n",
    "                if end < start:\n",
    "                    return None\n",
    "                node = preorder.pop(0)  #pop（）函数，可以选择坐标来删除；所有子结点都可以看作子树的root，所以挨个遍历。\n",
    "                index = index_list[node]\n",
    "                root = TreeNode(node)\n",
    "                root.left = helper(start, index - 1)\n",
    "                root.right = helper(index + 1, end)\n",
    "                return root\n",
    "            \n",
    "        return helper(0, len(inorder)-1)"
   ]
  },
  {
   "cell_type": "markdown",
   "metadata": {},
   "source": [
    "# 114. Flatten Binary Tree to Linked List"
   ]
  },
  {
   "cell_type": "code",
   "execution_count": null,
   "metadata": {},
   "outputs": [],
   "source": [
    "注意！！本题要求什么都不返回，in-place修改。\n",
    "\n",
    "没有进行前序遍历的解法：思路相当于把以root.right为根的子树整根剪下来，插在左子树的最最右端。。这样实际上再进行preorder时效果是相同的。\n",
    "        def flatten(self, root):\n",
    "            if not root or not root.left and not root.right:  #首先判断，如果树是空的，或者只有一个root的话，什么都不做\n",
    "                return None\n",
    "            if root.left:  #如果左孩子存在的话，再进行剪枝和插入，否则直接进入下一轮递归\n",
    "                current = root.left\n",
    "                while current.right:  #找到左子树的最右端\n",
    "                    current = current.right\n",
    "                current.right = root.right  #剪枝\n",
    "                root.right = root.left  #替换\n",
    "                root.left = None\n",
    "            self.flatten(root.right)  #虽然再次调用函数形成递归，但是上一个函数已经出栈，所以栈内只有一个函数。"
   ]
  },
  {
   "cell_type": "markdown",
   "metadata": {},
   "source": [
    "# 49. Group Anagrams"
   ]
  },
  {
   "cell_type": "code",
   "execution_count": null,
   "metadata": {},
   "outputs": [],
   "source": [
    "1. Hash table的做法：采用素数相乘的办法，得到不会重复的hash key。\n",
    "from functools import reduce  # reduce接受两个对象：第一个是一个函数，可以是lambda；第二个是一个可迭代对象，比如list。此处是两两相乘\n",
    "from operator import mul  #乘法函数\n",
    "class Solution:\n",
    "    def groupAnagrams(self, strs):\n",
    "        \"\"\"\n",
    "        :type strs: List[str]\n",
    "        :rtype: List[List[str]]\n",
    "        \"\"\"\n",
    "        primes = [2, 3, 5, 7, 11, 13, 17, 19, 23, 29, 31, 37, 41, 43,\n",
    "                  47, 53, 59, 61, 67, 71, 73, 79, 83, 89, 97, 101]  # 26个素数\n",
    "        res = {}\n",
    "        for str_ in strs:\n",
    "            key = reduce(mul, [primes[ord(c) - ord('a')] for c in str_]) \\  #in-function ord函数：返回ascii码\n",
    "                                                            if str_ else \"\"  # ['']不是空的，而‘’自身是None，防止这种情况进入reduce函数报错\n",
    "            res.setdefault(key, []).append(str_)  #setdefault函数：从字典里查找对应key值的value，如果没有的话返回[]；\n",
    "        return list(res.values())\n",
    "\n",
    "2. 第二种方法：把每个字符串先排序\n",
    "class Solution:\n",
    "    def groupAnagrams(self, strs):\n",
    "        \"\"\"\n",
    "        :type strs: List[str]\n",
    "        :rtype: List[List[str]]\n",
    "        \"\"\"\n",
    "        res = {}\n",
    "        for item in strs:\n",
    "            res.setdefault(''.join(sorted(item)), []).append(item)  #此处注意！sorted排序后是生成一个list：['b', 'c', 'a', 'e'.......]，并不是连续的字符串。\n",
    "        return list(res.values())"
   ]
  },
  {
   "cell_type": "markdown",
   "metadata": {},
   "source": [
    "# 226. Invert Binary Tree"
   ]
  },
  {
   "cell_type": "code",
   "execution_count": null,
   "metadata": {},
   "outputs": [],
   "source": [
    "递归算法：\n",
    "    def invertTree(self, root):\n",
    "        if root:\n",
    "            root.left, root.right = self.invertTree(root.right), \\\n",
    "                                    self.invertTree(root.left)\n",
    "        return root\n",
    "\n",
    "DFS算法：利用stack存储结点信息\n",
    "    def invertTree(self, root):\n",
    "        stack = [root]\n",
    "        while stack:\n",
    "            node = stack.pop()\n",
    "            if node:\n",
    "                node.right, node.left = node.left, node.right\n",
    "                stack.extend([node.right, node.left])\n",
    "        return root\n",
    "    \n",
    "本题不难，但是关键要记住，要理解交换树的node以后，整个子树都被交换了！而不只是两个node的value值。"
   ]
  },
  {
   "cell_type": "markdown",
   "metadata": {},
   "source": [
    "# 11. Container With Most Water"
   ]
  },
  {
   "cell_type": "code",
   "execution_count": null,
   "metadata": {},
   "outputs": [],
   "source": [
    "    def maxArea(self, height):\n",
    "        \"\"\"\n",
    "        :type height: List[int]\n",
    "        :rtype: int\n",
    "        \"\"\"\n",
    "        i, j = 0, len(height) - 1\n",
    "        h = 0\n",
    "        while i < j:\n",
    "            h = max(h, (j-i)*min(height[i], height[j]))\n",
    "            if height[i] <= height[j]:\n",
    "                i += 1\n",
    "            else:\n",
    "                j -=1\n",
    "        return h\n",
    "    时间复杂度O（n），永远都去移动数值小的那个对应坐标。因为我们面临的是短板问题，移动数值大的并没有用。"
   ]
  },
  {
   "cell_type": "markdown",
   "metadata": {},
   "source": [
    "# 19. Remove Nth Node From End of List"
   ]
  },
  {
   "cell_type": "code",
   "execution_count": null,
   "metadata": {},
   "outputs": [],
   "source": [
    "    def removeNthFromEnd(self, head, n):\n",
    "        \"\"\"\n",
    "        :type head: ListNode\n",
    "        :type n: int\n",
    "        :rtype: ListNode\n",
    "        \"\"\"\n",
    "        fast = slow = head  #注意此种写法！！head指向的是一个不变的静态的地址，所以才可以这样写\n",
    "        for i in range(n):\n",
    "            fast = fast.next\n",
    "        if not fast:\n",
    "            return head.next\n",
    "        while fast.next:\n",
    "            slow = slow.next\n",
    "            fast = fast.next\n",
    "        slow.next = slow.next.next\n",
    "        return head\n",
    "    \n",
    "    因为值链表，无法确定链表长度。\n",
    "    先让fast提前走n步，然后slow再跟着走，直到fast到最后位置时，也就确定了要删除结点的位置。\n",
    "    注意 返回的是链表的head"
   ]
  },
  {
   "cell_type": "markdown",
   "metadata": {},
   "source": [
    "# 20. Valid Parentheses"
   ]
  },
  {
   "cell_type": "code",
   "execution_count": null,
   "metadata": {},
   "outputs": [],
   "source": [
    "    def isValid(self, s):\n",
    "        \"\"\"\n",
    "        :type s: str\n",
    "        :rtype: bool\n",
    "        \"\"\"\n",
    "        if len(s) == 0:\n",
    "            return True\n",
    "        if len(s) % 2 == 1:  #奇数项，直接pass\n",
    "            return False\n",
    "        stack = [s[0]]\n",
    "        for item in s[1:]:\n",
    "            stack.append(item)\n",
    "            if stack[-2] == '(' and stack[-1] == ')' or stack[-2] == '[' and stack[-1] == ']' or stack[-2] == '{' and stack[-1] == '}':\n",
    "                del stack[-2:]  #删除后两项元素。\n",
    "            if not stack:\n",
    "                return True\n",
    "        return False"
   ]
  },
  {
   "cell_type": "markdown",
   "metadata": {},
   "source": [
    "# 21. Merge Two Sorted Lists"
   ]
  },
  {
   "cell_type": "code",
   "execution_count": null,
   "metadata": {},
   "outputs": [],
   "source": [
    "第一种方法：迭代法\n",
    "class Solution:\n",
    "    def mergeTwoLists(self, l1, l2):\n",
    "        \"\"\"\n",
    "        :type l1: ListNode\n",
    "        :type l2: ListNode\n",
    "        :rtype: ListNode\n",
    "        \"\"\"\n",
    "        node = new_list = ListNode(0)\n",
    "        while l1 and l2:\n",
    "            if l1.val < l2.val:\n",
    "                new_list.next = l1\n",
    "                l1 = l1.next\n",
    "                new_list = new_list.next\n",
    "            else:\n",
    "                new_list.next = l2\n",
    "                l2 = l2.next\n",
    "                new_list = new_list.next\n",
    "        if not l1 or not l2:\n",
    "            new_list.next = l1 or l2  #注意这种用法！！之前从没见过：返回l1(如果l1非空)，否则返回l2\n",
    "        return node.next  #再一次，返回链表的head\n",
    "    \n",
    "第二种方法：递归法\n",
    "仔细研读一下，也很巧妙\n",
    "        def mergeTwoLists(self, l1, l2):\n",
    "        if None in (l1, l2):\n",
    "            return l1 or l2\n",
    "        if l1.val < l2.val:\n",
    "            l1.next = self.mergeTwoLists(l1.next, l2)\n",
    "            return l1\n",
    "        else:\n",
    "            l2.next = self.mergeTwoLists(l1, l2.next)\n",
    "            return l2"
   ]
  },
  {
   "cell_type": "markdown",
   "metadata": {},
   "source": [
    "# 136. Single Number"
   ]
  },
  {
   "cell_type": "code",
   "execution_count": null,
   "metadata": {},
   "outputs": [],
   "source": [
    "字典法：\n",
    "    def singleNumber(self, nums):\n",
    "        \"\"\"\n",
    "        :type nums: List[int]\n",
    "        :rtype: int\n",
    "        \"\"\"\n",
    "        dic = {}\n",
    "        for i in nums:\n",
    "            dic[i] = dic.get(i, 0) + 1  #字典的骚操作！！注意和setdefault的区别\n",
    "        for key, value in dic.items():\n",
    "            if value == 1:\n",
    "                return key\n",
    "\n",
    "XOR方法：\n",
    "该问题也可以看作是异或门，python 中^符号表示异或运算。异或特点很简单：就是一样的数字就会返回0；\n",
    "并且它在比较两个数字时是将两者同时转化为二进制数字，逐个按位去比较。\n",
    "def singleNumber(self, nums):\n",
    "        \"\"\"\n",
    "        :type nums: List[int]\n",
    "        :rtype: int\n",
    "        \"\"\"\n",
    "        res = 0\n",
    "        for i in nums:\n",
    "            res = res ^ i\n",
    "        return res\n",
    "同样是XOR，换一种表达方法，利用reduce。\n",
    "from functools import reduce\n",
    "class Solution:\n",
    "    def singleNumber(self, nums):\n",
    "        \"\"\"\n",
    "        :type nums: List[int]\n",
    "        :rtype: int\n",
    "        \"\"\"\n",
    "        return reduce(lambda x, y: x^y, nums)"
   ]
  },
  {
   "cell_type": "markdown",
   "metadata": {},
   "source": [
    "# 22. Generate Parentheses"
   ]
  },
  {
   "cell_type": "code",
   "execution_count": null,
   "metadata": {},
   "outputs": [],
   "source": [
    "DP解法：\n",
    "    \n",
    "    def generateParenthesis(self, n):\n",
    "        \"\"\"\n",
    "        :type n: int\n",
    "        :rtype: List[str]\n",
    "        \"\"\"\n",
    "        dp = [[] for m in range(n+1)]  #要想生成一个list，且list中每一元素仍是一个list时必须用for！！！[a]*n的用法只能生成一个list：[a, a, a....]\n",
    "        dp[0].append('')  #此步非常有必要，虽然n=0没有意义，但是它会帮助我们计算n=1的情况；''在list中是真实的元素，可以被for遍历。但''本身代表None。\n",
    "        for i in range(1, n+1):  #n=0可以省略\n",
    "            for j in range(i):\n",
    "                dp[i] += ['(' + x + ')' + y for x in dp[j] for y in dp[i-j-1]]  #字符串的操作！！若是 a'+'b'则为'ab'; 若是['a']+['b']则为['a', 'b']\n",
    "        return dp[n]\n",
    "    \n",
    "    这道题思路就是：n的情况可以由n-1的情况来表示，我们要做的相当于是给n-1的各自情况再格外套一个括号。而这个extra parentheses可以套的地方依次\n",
    "    有n个。"
   ]
  },
  {
   "cell_type": "markdown",
   "metadata": {},
   "source": [
    "# 23. Merge k Sorted Lists"
   ]
  },
  {
   "cell_type": "code",
   "execution_count": null,
   "metadata": {},
   "outputs": [],
   "source": [
    "第一种方法是把各个val都扔进一个list中然后sort一下\n",
    "第二种方法是用堆：\n",
    "from heapq import heappush, heapreplace, heapify, heappop  #python内置heapq文件，里面都是对于heap的操作\n",
    "class Solution:\n",
    "    def mergeKLists(self, lists):\n",
    "        \"\"\"\n",
    "        :type lists: List[ListNode]\n",
    "        :rtype: ListNode\n",
    "        \"\"\"\n",
    "\n",
    "        nodes = [(n.val, i, n) for i, n in enumerate(lists) if n]  #一定要加上i，因为heap是要根据数值排序的，当n.val相同时即会对第二项i进行排序（对n无法排序\n",
    "        heapify(nodes)\n",
    "        dummy = root = ListNode(0)  #老套路，dummy指向的永远不变，不断去更新root。\n",
    "        while nodes:\n",
    "            v, i, node = nodes[0]  #此处写成（v, i, node）也可以的。\n",
    "            if node.next is None:\n",
    "                heappop(nodes)\n",
    "            else:\n",
    "                heapreplace(nodes, (node.next.val, i, node.next))\n",
    "            root.next = node\n",
    "            root = root.next\n",
    "        return dummy.next\n",
    "    时间复杂度是nlogk，其中k是堆的大小，也就是需要被sort的list的数量。"
   ]
  },
  {
   "cell_type": "markdown",
   "metadata": {},
   "source": [
    "# 31. Next Permutation"
   ]
  },
  {
   "cell_type": "code",
   "execution_count": null,
   "metadata": {},
   "outputs": [],
   "source": [
    "这里列的两种方法都是同一种算法，只不过方向不同。\n",
    "该方法的原理是：（以第一种为例）1. 从左至右依次遍历list，直到找到nums[i]<nums[i+1] with the largest index i（第二种方法是从右往左找）；\n",
    "2. 从左往右依次遍历list，直到找到nums[k] > nums[i] with the largest index k （第二种同样从右往左）。所以其实差不多的。\n",
    "class Solution:\n",
    "    def nextPermutation(self, nums):\n",
    "        \"\"\"\n",
    "        :type nums: List[int]\n",
    "        :rtype: void Do not return anything, modify nums in-place instead.\n",
    "        \"\"\"\n",
    "        length = len(nums)\n",
    "        index_i = -1\n",
    "        for i, value in enumerate(nums):\n",
    "            if i < len(nums) - 1:\n",
    "                if value < nums[i+1]:\n",
    "                    index_i = i\n",
    "                    index_k = i+1\n",
    "            if value > nums[index_i]:\n",
    "                index_k = i\n",
    "        if index_i == -1:\n",
    "            nums.reverse()  # in-place操作，但是只能将整个nums反转，不能反转nums的一部分比如nums[i:].reverse()这样是不行的。\n",
    "        else:\n",
    "            nums[index_i], nums[index_k] = nums[index_k], nums[index_i]\n",
    "            l, r= index_i+1, length - 1  #反转list的操作：注意如果普通的分片（slice）操作会更慢，这种事in-place操作。\n",
    "            while l < r:\n",
    "                nums[l], nums[r] = nums[r], nums[l]\n",
    "                l += 1\n",
    "                r -= 1\n",
    "                \n",
    "                \n",
    "class Solution:\n",
    "    def nextPermutation(self, nums):\n",
    "        \"\"\"\n",
    "        :type nums: List[int]\n",
    "        :rtype: void Do not return anything, modify nums in-place instead.\n",
    "        \"\"\"        \n",
    "        length = len(nums)\n",
    "        i = length - 1\n",
    "        index_i = -1\n",
    "        while i > 0:\n",
    "            if i - 1 >= 0:\n",
    "                if nums[i-1] < nums[i]:\n",
    "                    index_i = i-1\n",
    "                    index_k = i\n",
    "                    break\n",
    "            i -= 1\n",
    "        for k in range(length):\n",
    "            if nums[k] > nums[index_i]:\n",
    "                index_k = k\n",
    "        if index_i == -1:\n",
    "            nums.reverse()\n",
    "        else:\n",
    "            nums[index_i], nums[index_k] = nums[index_k], nums[index_i]\n",
    "            l, r= index_i+1, length - 1\n",
    "            nums[index_i+1:] = list(reversed(nums[index_i+1:]))  # 也可以使用这种方法来反转list，reversed返回的是一个迭代器。"
   ]
  },
  {
   "cell_type": "markdown",
   "metadata": {},
   "source": [
    "# 33. Search in Rotated Sorted Array"
   ]
  },
  {
   "cell_type": "code",
   "execution_count": null,
   "metadata": {},
   "outputs": [],
   "source": [
    "    def search(self, nums, target):\n",
    "        \"\"\"\n",
    "        :type nums: List[int]\n",
    "        :type target: int\n",
    "        :rtype: int\n",
    "        \"\"\"\n",
    "        if not nums:\n",
    "            return -1\n",
    "        f, l = nums[0], nums[-1]  # f:first; l:last(下次直接写全)\n",
    "        i, j = 0, len(nums)-1\n",
    "        while i <= j:  # 和正常二分查找很像其实\n",
    "            mid = (i+j)//2\n",
    "            if target == nums[mid]:\n",
    "                return mid\n",
    "            if nums[mid] < l:  \n",
    "                if nums[mid] < target <= l:\n",
    "                    i = mid + 1  #加1和减1都不能省！！\n",
    "                else:\n",
    "                    j = mid - 1\n",
    "            else:\n",
    "                if nums[mid] > target >= f:\n",
    "                    j = mid - 1\n",
    "                else:\n",
    "                    i = mid + 1\n",
    "        return -1"
   ]
  },
  {
   "cell_type": "markdown",
   "metadata": {},
   "source": [
    "# 34. Find First and Last Position of Element in Sorted Array"
   ]
  },
  {
   "cell_type": "code",
   "execution_count": null,
   "metadata": {},
   "outputs": [],
   "source": [
    "方法一：利用bisect函数\n",
    "from bisect import bisect_left, bisect  #这是二分查找的内置函数。\n",
    "class Solution:\n",
    "    def searchRange(self, a, target):\n",
    "        if not a: return [-1, -1]\n",
    "        lo = bisect_left(a, target)  #bisect不同于正常的查找，它相当于是尝试往a中插入target，然后记录此时target的坐标（但其实并没有插入）\n",
    "        if lo==len(a) or a[lo] != target: return [-1, -1]  #只需要确认一次，看看a中到底有没有和target相等的值\n",
    "        hi = bisect(a, target)  #同bisect_right函数，都是右插\n",
    "        return [lo, hi-1]\n",
    "    \n",
    "方法二：很巧妙，和bisect_left类似，构造的search函数永远只找左边界（first position）\n",
    "class Solution:\n",
    "    def searchRange(self, nums, target):\n",
    "        if not nums:\n",
    "            return [-1, -1]\n",
    "        def search(value):\n",
    "            l, r = 0, len(nums)  #注意！这里和二分查找不一样了，用了len（nums）而没有减1；\n",
    "            while l < r:  #同样，这里也没有等于号；\n",
    "                mid = (l+r)//2\n",
    "                if nums[mid] >= value:\n",
    "                    r = mid  #这不能减1，因为我们要确保左边的partition里含有value；\n",
    "                else:\n",
    "                    l = mid + 1  #右边无所谓了，这里l是有可能超出index范围的，下面的判断语句可以控制；\n",
    "            return l\n",
    "        index_l = search(target)\n",
    "        if target not in nums[index_l:index_l+1]:  # ！！！一定要注意该用法，此时index_l其实可能已经超出index范围，但是不会报错！\n",
    "            return [-1, -1]\n",
    "        index_r = search(target+1) - 1  #这里很巧妙！找到target+1的左边界，它也就是target右边界+1。\n",
    "        return [index_l, index_r]"
   ]
  },
  {
   "cell_type": "markdown",
   "metadata": {},
   "source": [
    "# 42. Trapping Rain Water"
   ]
  },
  {
   "cell_type": "code",
   "execution_count": null,
   "metadata": {},
   "outputs": [],
   "source": [
    "方法一：two-pointers双指针方法，复杂度On，空间O1。\n",
    "class Solution:\n",
    "    def trap(self, height):\n",
    "        \"\"\"\n",
    "        :type height: List[int]\n",
    "        :rtype: int\n",
    "        \"\"\"\n",
    "        left, right = 0, len(height) - 1\n",
    "        max_left = max_right = 0\n",
    "        res = 0\n",
    "        while left < right:  #循环条件\n",
    "            if height[left] <= height[right]:  #判断下哪边更低，就从哪边开始灌水；\n",
    "                if height[left] > max_left:\n",
    "                    max_left = height[left]  #如果高度增加，无法加水；\n",
    "                else:\n",
    "                    res += max_left - height[left]\n",
    "                left += 1\n",
    "            else:  #从右边加水的情况，和上面第一个if一样的；\n",
    "                if height[right] > max_right:\n",
    "                    max_right = height[right]\n",
    "                else:\n",
    "                    res += max_right - height[right]\n",
    "                right -= 1\n",
    "        return res\n",
    "    \n",
    "方法二：用stack来做，时间复杂度同为On；从前往后依次遍历height，当height[i] 大于height[i-1]时就将其放入stack中，也就是说递减趋势时就放进栈里；\n",
    "            当height[i]增大时，就开始pop stack中元素，求解cumulative sum（max_trap）。\n",
    "class Solution:\n",
    "    def trap(self, height):\n",
    "        i = max_trap = 0\n",
    "        stack = []\n",
    "        while i < len(height):\n",
    "            if not stack or height[i] < height[stack[-1]]:\n",
    "                stack.append(i)\n",
    "                i += 1\n",
    "            else:\n",
    "                bot = stack.pop()  \n",
    "                minimum = min(height[i], height[stack[-1]]) if stack else 0  #其实这句可以放在下面一行，将两者合并为一句\n",
    "                trap = (minimum - height[bot]) * (i-stack[-1]-1) if stack else 0  #不能无休止的pop，需要判断if stack\n",
    "                max_trap += trap  #要注意 在这个else语句里不需要i+=1\n",
    "        return max_trap"
   ]
  },
  {
   "cell_type": "markdown",
   "metadata": {},
   "source": [
    "# 46. Permutations"
   ]
  },
  {
   "cell_type": "code",
   "execution_count": null,
   "metadata": {},
   "outputs": [],
   "source": [
    "方法一：递归\n",
    "class Solution:\n",
    "    def permute(self, nums):\n",
    "        return [[item] + p for i, item in enumerate(nums)  #上下两行是一个句子\n",
    "                        for p in self.permute(nums[:i] + nums[i+1:]) or [[]]]  #只能把for语句放在这，如果拿到上面return语句接受一个item就返回了\n",
    "    第二个for里面有个or，表示如果for里面是空的则返回or的值。\n",
    "    \n",
    "方法二：在前一种排列的基础上插入第n个数字；时间复杂度 O（n*n！）空间复杂度不会分析。。。\n",
    "            每次插入时，要在temp中进行，随后还要\n",
    "class Solution:\n",
    "    def permute(self, nums):\n",
    "        \"\"\"\n",
    "        :type nums: List[int]\n",
    "        :rtype: List[List[int]]\n",
    "        \"\"\"\n",
    "        res = [[]]\n",
    "        temp = []\n",
    "        for i in nums:\n",
    "            for t in res:\n",
    "                for j in range(len(t)+1):\n",
    "                    temp = temp + [t[:j] + [i] + t[j:]]  #对于list相加，表示的是list中的所有元素进行合并\n",
    "            res = temp  #res和temp互相交替，将temp赋给res后清空temp\n",
    "            temp = []\n",
    "        return res"
   ]
  }
 ],
 "metadata": {
  "kernelspec": {
   "display_name": "Python 3",
   "language": "python",
   "name": "python3"
  },
  "language_info": {
   "codemirror_mode": {
    "name": "ipython",
    "version": 3
   },
   "file_extension": ".py",
   "mimetype": "text/x-python",
   "name": "python",
   "nbconvert_exporter": "python",
   "pygments_lexer": "ipython3",
   "version": "3.7.0"
  }
 },
 "nbformat": 4,
 "nbformat_minor": 2
}
