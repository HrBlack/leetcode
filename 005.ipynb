{
 "cells": [
  {
   "cell_type": "markdown",
   "metadata": {},
   "source": [
    "# 5. Longest Palindromic Substring\n"
   ]
  },
  {
   "cell_type": "markdown",
   "metadata": {},
   "source": [
    "palindromic这个单词的意思是 无论从左还是从右边读， substring都是相同的，也就是说它是对称的。\n",
    "\n",
    "关于self的理解：只要是在class里定义的函数，就一般都需要self（目前来看的经验），而如果最上面没有class 的话，函数其实可以没有self参量。\n",
    "\n",
    "之所以要调用两次comp，第一次是因为可能是aba的情况；第二次是可能abba的情况。"
   ]
  },
  {
   "cell_type": "code",
   "execution_count": 22,
   "metadata": {},
   "outputs": [],
   "source": [
    "class Solution:\n",
    "    def longestPalindrome(self, s):\n",
    "        \"\"\"\n",
    "        :type s: str\n",
    "        :rtype: str\n",
    "        \"\"\"\n",
    "        res = \"\"\n",
    "        for i in range(len(s)):\n",
    "            equ = self.comp(s, i, i)\n",
    "            if len(equ)>len(res):\n",
    "                res = equ\n",
    "            equ = self.comp(s, i, i+1)\n",
    "            if len(equ)>len(res):\n",
    "                res = equ\n",
    "        return res\n",
    "            \n",
    "            \n",
    "    def comp(self,s, i, j):\n",
    "        while i >= 0 and j<=len(s)-1 and s[i]==s[j]:\n",
    "            i -=1; j+=1\n",
    "        return s[i+1:j]"
   ]
  }
 ],
 "metadata": {
  "kernelspec": {
   "display_name": "Python 3",
   "language": "python",
   "name": "python3"
  },
  "language_info": {
   "codemirror_mode": {
    "name": "ipython",
    "version": 3
   },
   "file_extension": ".py",
   "mimetype": "text/x-python",
   "name": "python",
   "nbconvert_exporter": "python",
   "pygments_lexer": "ipython3",
   "version": "3.6.5"
  }
 },
 "nbformat": 4,
 "nbformat_minor": 2
}
