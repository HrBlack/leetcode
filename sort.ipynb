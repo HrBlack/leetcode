{
 "cells": [
  {
   "cell_type": "markdown",
   "metadata": {},
   "source": [
    "# 八种排序方式代码实现"
   ]
  },
  {
   "cell_type": "markdown",
   "metadata": {},
   "source": [
    "# 直接插入排序"
   ]
  },
  {
   "cell_type": "code",
   "execution_count": 1,
   "metadata": {},
   "outputs": [],
   "source": [
    "def sort(s):\n",
    "    for i in range(1, len(s)):\n",
    "        for j in range(i):\n",
    "            if s[i] < s[j]:\n",
    "                s[i], s[j] = s[j], s[i]\n",
    "    return s"
   ]
  },
  {
   "cell_type": "code",
   "execution_count": 3,
   "metadata": {},
   "outputs": [
    {
     "data": {
      "text/plain": [
       "[1, 2, 4, 5, 7, 9]"
      ]
     },
     "execution_count": 3,
     "metadata": {},
     "output_type": "execute_result"
    }
   ],
   "source": [
    "sort([1,5,2,7,4,9])"
   ]
  },
  {
   "cell_type": "markdown",
   "metadata": {},
   "source": [
    "# 希尔排序"
   ]
  },
  {
   "cell_type": "code",
   "execution_count": 27,
   "metadata": {},
   "outputs": [],
   "source": [
    "def insert_shell(L):\n",
    "    gap = len(L)//2\n",
    "    while gap >= 1:\n",
    "        for i in range(gap):\n",
    "            for j in range(i+gap, len(L), gap):\n",
    "                for k in range(i, j, gap):\n",
    "                    if L[j] < L[k]:\n",
    "                        tem = L[k]\n",
    "                        L[k] = L[j]\n",
    "                        L[j] = tem\n",
    "                    else: continue\n",
    "        gap = gap//2\n",
    "    return L"
   ]
  },
  {
   "cell_type": "code",
   "execution_count": 33,
   "metadata": {},
   "outputs": [
    {
     "name": "stdout",
     "output_type": "stream",
     "text": [
      "0.0001220703125\n",
      "0.0004940032958984375\n"
     ]
    }
   ],
   "source": [
    "import time\n",
    "time1 = time.time()\n",
    "insert_shell([1,5,2,7,4,6,7,9,3,2,5,10,1,4])\n",
    "print(time.time()-time1)\n",
    "insert_sort([1,5,2,7,4,6,7,9,3,2,5,10,1,4])\n",
    "print(time.time()-time1)"
   ]
  },
  {
   "cell_type": "markdown",
   "metadata": {},
   "source": [
    "这个算是上面直插的优化算法，gap的引入使得元素每次移动可以进行跳跃，而不仅仅是移动一个位置。\n",
    "for循环较多，写起来比较容易晕，一定要一步一步捋清楚。"
   ]
  },
  {
   "cell_type": "markdown",
   "metadata": {},
   "source": [
    "# 简单选择排序"
   ]
  },
  {
   "cell_type": "code",
   "execution_count": 4,
   "metadata": {},
   "outputs": [],
   "source": [
    "def select_sort(L):\n",
    "    lea = L[0]\n",
    "    m = 0\n",
    "    for j in range(len(L)):\n",
    "        for i in range(len(L)-j):\n",
    "            if L[i] > lea:\n",
    "                lea = L[i]\n",
    "                m = i\n",
    "        tem = L[len(L)-j-1]\n",
    "        L[len(L)- j -1] = L[m]\n",
    "        L[m] = tem\n",
    "        lea = L[0]\n",
    "    return L"
   ]
  },
  {
   "cell_type": "code",
   "execution_count": 5,
   "metadata": {},
   "outputs": [
    {
     "data": {
      "text/plain": [
       "[0.4, 0.5, 1, 1, 1.5, 2, 2, 3, 4, 4, 5, 5, 6, 7, 7, 9, 10]"
      ]
     },
     "execution_count": 5,
     "metadata": {},
     "output_type": "execute_result"
    }
   ],
   "source": [
    "select_sort([0.5,1,0.4,5,2,7,1.5,4,6,7,9,3,2,5,10,1,4])"
   ]
  },
  {
   "cell_type": "markdown",
   "metadata": {},
   "source": [
    "两层循环，想的时间太慢了，应该立刻想到第一层返回一个index：表示现在已经找到了几个数字：第二层是遍历。\n",
    "需要注意的是range里面的数字，要学会列表画图立刻找到。"
   ]
  },
  {
   "cell_type": "markdown",
   "metadata": {},
   "source": [
    "# 冒泡排序"
   ]
  },
  {
   "cell_type": "code",
   "execution_count": 150,
   "metadata": {},
   "outputs": [],
   "source": [
    "def bubble_sort(L):\n",
    "    for j in range(len(L)):\n",
    "        for i in range(len(L)-1-j):\n",
    "            if L[i] > L[i+1]:\n",
    "                tem = L[i+1]\n",
    "                L[i+1] = L[i]\n",
    "                L[i] = tem\n",
    "    return L"
   ]
  },
  {
   "cell_type": "code",
   "execution_count": 152,
   "metadata": {},
   "outputs": [
    {
     "data": {
      "text/plain": [
       "[0.4, 0.5, 1, 1, 1.5, 2, 2, 3, 4, 4, 5, 5, 6, 7, 7, 9, 10]"
      ]
     },
     "execution_count": 152,
     "metadata": {},
     "output_type": "execute_result"
    }
   ],
   "source": [
    "bubble_sort([0.5,1,0.4,5,2,7,1.5,4,6,7,9,3,2,5,10,1,4])"
   ]
  },
  {
   "cell_type": "markdown",
   "metadata": {},
   "source": [
    "# 快速排序"
   ]
  },
  {
   "cell_type": "code",
   "execution_count": 157,
   "metadata": {},
   "outputs": [],
   "source": [
    "def partition(L, i, j):  #分区函数：负责找到分离点（第一个值）的最终坐标。\n",
    "    pivot = L[i]  #在index=i处挖坑，把原有值储存成pivot，所以现在我们可以将L[i]当作是空的。\n",
    "    while i < j:\n",
    "        while i < j and L[j] >= pivot:\n",
    "            j -= 1\n",
    "        L[i] = L[j]  #当while 中第二个条件不满足时，填坑，将不满足的值放进坑里。\n",
    "        while i < j and L[i] <= pivot:  #然后从另一方向重新遍历L。\n",
    "            i += 1\n",
    "        L[j] = L[i]\n",
    "    L[i] = pivot  #最后把pivot放进最后一个未被填入的坑。\n",
    "    return i\n",
    "\n",
    "def quick_sort(L, f, l):  #f，l都是index，所以前前后后要保持一致。\n",
    "    if f < l:  #在这里加判断很有必要，如果不满足的话，quick sort函数将什么都不执行直接pass。\n",
    "        i = partition(L, f, l)  #这里注意！赋过去的一定是完整的list，这样才能够不断更新它。\n",
    "        quick_sort(L, f, i-1)\n",
    "        quick_sort(L, i+1, l)\n",
    "        "
   ]
  },
  {
   "cell_type": "code",
   "execution_count": 156,
   "metadata": {},
   "outputs": [
    {
     "name": "stdout",
     "output_type": "stream",
     "text": [
      "[0.4, 0.5, 1, 1, 1.5, 2, 2, 3, 4, 4, 5, 5, 6, 7, 7, 9, 10]\n"
     ]
    }
   ],
   "source": [
    "L = [0.5,1,0.4,5,2,7,1.5,4,6,7,9,3,2,5,10,1,4]\n",
    "quick_sort(L, 0, 16)\n",
    "print(L)"
   ]
  },
  {
   "cell_type": "markdown",
   "metadata": {},
   "source": [
    "# 堆排序"
   ]
  },
  {
   "cell_type": "code",
   "execution_count": 118,
   "metadata": {},
   "outputs": [],
   "source": [
    "def sort(heap_list):\n",
    "    heap_list.insert(0, 0)  #很重要！！！不插入第一个值的话，n与2n 2n+1的条件是不满足的。\n",
    "    length = len(heap_list)\n",
    "    k = length\n",
    "    sort_list = []\n",
    "    j = length\n",
    "    while j > 2:  #建堆：只需要进行一次，从下往上。\n",
    "        i = len(heap_list)-1\n",
    "        while i > 1:\n",
    "            if heap_list[i] < heap_list[i//2]:\n",
    "                heap_list[i], heap_list[i//2] = heap_list[i//2], heap_list[i]\n",
    "            i = i-1  #逐个遍历，直到堆中只剩下2个数字（除0以外）\n",
    "        j -= 1\n",
    "        \n",
    "    while k > 2:  #筛选：在建好的堆的基础之上，将最后一位数字替换到第一位上来的过程，然后pop掉。从上往下。\n",
    "        sort_list.append(heap_list[1])\n",
    "        heap_list[1] = heap_list.pop()\n",
    "        i = 1\n",
    "        while 2 * i < len(heap_list):\n",
    "            if 2*i + 1 < len(heap_list):  #确定最小子树的坐标值\n",
    "                if heap_list[2*i] > heap_list[2*i+1]:\n",
    "                    index = 2*i+1\n",
    "                else:\n",
    "                    index = 2*i\n",
    "            else: \n",
    "                index = 2*i\n",
    "            if heap_list[i] > heap_list[index]:\n",
    "                heap_list[i], heap_list[index] = heap_list[index], heap_list[i]\n",
    "            i = index\n",
    "        k -= 1\n",
    "        \n",
    "    sort_list.append(heap_list[1])\n",
    "    print(sort_list)\n"
   ]
  },
  {
   "cell_type": "code",
   "execution_count": 119,
   "metadata": {},
   "outputs": [
    {
     "name": "stdout",
     "output_type": "stream",
     "text": [
      "[0.4, 0.5, 1, 1, 1.5, 2, 2, 3, 4, 4, 5, 5, 6, 7, 7, 9, 10]\n"
     ]
    }
   ],
   "source": [
    "sort([0.5,1,0.4,5,2,7,1.5,4,6,7,9,3,2,5,10,1,4])"
   ]
  },
  {
   "cell_type": "markdown",
   "metadata": {},
   "source": [
    "# 二分查找"
   ]
  },
  {
   "cell_type": "code",
   "execution_count": null,
   "metadata": {},
   "outputs": [],
   "source": [
    "def binary_search(input_array, value):\n",
    "    \"\"\"Your code goes here.\"\"\"\n",
    "    lenth = len(input_array)\n",
    "    left = 0\n",
    "    right = lenth-1\n",
    "    for i in range(lenth):\n",
    "        if value < input_array[(right+left)/(2)]:\n",
    "            right = (left+right)/2\n",
    "        elif value == input_array[(right+left)/2]: return (right+left)/2\n",
    "        else: left = (left+right)/2+1\n",
    "        if left == right and input_array[right] == value: return left\n",
    "        if left == right: break\n",
    "    return -1"
   ]
  },
  {
   "cell_type": "markdown",
   "metadata": {},
   "source": [
    "其实还是边界问题，把细节要想清楚。\n",
    "如果什么都没找到就返回-1"
   ]
  },
  {
   "cell_type": "code",
   "execution_count": 27,
   "metadata": {},
   "outputs": [
    {
     "data": {
      "text/plain": [
       "(2, 10)"
      ]
     },
     "execution_count": 27,
     "metadata": {},
     "output_type": "execute_result"
    }
   ],
   "source": [
    "import numpy as np\n",
    "a = np.random.randn(2, 10)\n",
    "b = np.random.random(10)"
   ]
  },
  {
   "cell_type": "markdown",
   "metadata": {},
   "source": [
    "# TOP-K 算法：利用小顶堆实现的"
   ]
  },
  {
   "cell_type": "code",
   "execution_count": 13,
   "metadata": {},
   "outputs": [
    {
     "data": {
      "text/plain": [
       "[1, 2, 3, 4, 5, 7, 8, 9, 10, 11]"
      ]
     },
     "execution_count": 13,
     "metadata": {},
     "output_type": "execute_result"
    }
   ],
   "source": [
    "class Solution:\n",
    "    def GetLeastNumbers_Solution(self, tinput, k):\n",
    "\n",
    "        def sift(j):  # 该函数是heap sort的核心：建堆的过程（维护也可以看作是建堆的变形）\n",
    "            while 2*j+1 < length:\n",
    "                if not input[2*j+2:] or input[2*j+1] < input[2*j+2]:  # 可以不需要在0位置insert，对应子节点坐标改为2j+1；2j+2\n",
    "                    small = 2*j + 1\n",
    "                else:\n",
    "                    small = 2*j + 2  #这个if首先确定两个子节点中哪个最小；\n",
    "                if input[j] > input[small]:\n",
    "                    input[j], input[small] = input[small], input[j]\n",
    "                else:\n",
    "                    break\n",
    "                j = small\n",
    "            return\n",
    "\n",
    "        if not tinput or len(tinput) < k:  #如果k更大的话返回空集；\n",
    "            return []\n",
    "        input = tinput\n",
    "        res = []\n",
    "        length = len(input)\n",
    "        for i in range((len(tinput))//2-1, -1, -1):\n",
    "            sift(i)  # 建堆，通过这种方式建堆，可以让root的左右子树也都是堆；\n",
    "        for j in range(k):  # 维护堆，调用k次\n",
    "            res.append(input[0])  # 无需pop再插入，浪费时间\n",
    "            input[0] = input.pop()  # 直接替换\n",
    "            length = len(input)\n",
    "            if length == 1:\n",
    "                res.append(input[0])\n",
    "                return res\n",
    "            sift(0)  # 永远从第一个数开始筛选；\n",
    "        return res\n",
    "\n",
    "a = Solution()\n",
    "a.GetLeastNumbers_Solution([10,5,3,7,8,4,9,1,2,11], 9)"
   ]
  }
 ],
 "metadata": {
  "kernelspec": {
   "display_name": "Python 3",
   "language": "python",
   "name": "python3"
  },
  "language_info": {
   "codemirror_mode": {
    "name": "ipython",
    "version": 3
   },
   "file_extension": ".py",
   "mimetype": "text/x-python",
   "name": "python",
   "nbconvert_exporter": "python",
   "pygments_lexer": "ipython3",
   "version": "3.7.0"
  }
 },
 "nbformat": 4,
 "nbformat_minor": 2
}
